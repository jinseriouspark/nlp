{
  "nbformat": 4,
  "nbformat_minor": 0,
  "metadata": {
    "colab": {
      "name": "Untitled3.ipynb",
      "provenance": []
    },
    "kernelspec": {
      "name": "python3",
      "display_name": "Python 3"
    },
    "widgets": {
      "application/vnd.jupyter.widget-state+json": {
        "9f1752b96db54986a11b3ccfb8269c7e": {
          "model_module": "@jupyter-widgets/controls",
          "model_name": "HBoxModel",
          "state": {
            "_view_name": "HBoxView",
            "_dom_classes": [],
            "_model_name": "HBoxModel",
            "_view_module": "@jupyter-widgets/controls",
            "_model_module_version": "1.5.0",
            "_view_count": null,
            "_view_module_version": "1.5.0",
            "box_style": "",
            "layout": "IPY_MODEL_c38a21e0e2da443c8b60a78ad00be388",
            "_model_module": "@jupyter-widgets/controls",
            "children": [
              "IPY_MODEL_14b81bbce8f84065aeb9559dce34efad",
              "IPY_MODEL_d0cc8f4dab734f03975085983f2c4073"
            ]
          }
        },
        "c38a21e0e2da443c8b60a78ad00be388": {
          "model_module": "@jupyter-widgets/base",
          "model_name": "LayoutModel",
          "state": {
            "_view_name": "LayoutView",
            "grid_template_rows": null,
            "right": null,
            "justify_content": null,
            "_view_module": "@jupyter-widgets/base",
            "overflow": null,
            "_model_module_version": "1.2.0",
            "_view_count": null,
            "flex_flow": null,
            "width": null,
            "min_width": null,
            "border": null,
            "align_items": null,
            "bottom": null,
            "_model_module": "@jupyter-widgets/base",
            "top": null,
            "grid_column": null,
            "overflow_y": null,
            "overflow_x": null,
            "grid_auto_flow": null,
            "grid_area": null,
            "grid_template_columns": null,
            "flex": null,
            "_model_name": "LayoutModel",
            "justify_items": null,
            "grid_row": null,
            "max_height": null,
            "align_content": null,
            "visibility": null,
            "align_self": null,
            "height": null,
            "min_height": null,
            "padding": null,
            "grid_auto_rows": null,
            "grid_gap": null,
            "max_width": null,
            "order": null,
            "_view_module_version": "1.2.0",
            "grid_template_areas": null,
            "object_position": null,
            "object_fit": null,
            "grid_auto_columns": null,
            "margin": null,
            "display": null,
            "left": null
          }
        },
        "14b81bbce8f84065aeb9559dce34efad": {
          "model_module": "@jupyter-widgets/controls",
          "model_name": "FloatProgressModel",
          "state": {
            "_view_name": "ProgressView",
            "style": "IPY_MODEL_b2323237fe104fa3bfe3c79295d8941c",
            "_dom_classes": [],
            "description": "",
            "_model_name": "FloatProgressModel",
            "bar_style": "success",
            "max": 1,
            "_view_module": "@jupyter-widgets/controls",
            "_model_module_version": "1.5.0",
            "value": 1,
            "_view_count": null,
            "_view_module_version": "1.5.0",
            "orientation": "horizontal",
            "min": 0,
            "description_tooltip": null,
            "_model_module": "@jupyter-widgets/controls",
            "layout": "IPY_MODEL_7cc6d685c20d4ed3b5a81c5727da1032"
          }
        },
        "d0cc8f4dab734f03975085983f2c4073": {
          "model_module": "@jupyter-widgets/controls",
          "model_name": "HTMLModel",
          "state": {
            "_view_name": "HTMLView",
            "style": "IPY_MODEL_d78900c90eaf4de5aa94d0357191542f",
            "_dom_classes": [],
            "description": "",
            "_model_name": "HTMLModel",
            "placeholder": "​",
            "_view_module": "@jupyter-widgets/controls",
            "_model_module_version": "1.5.0",
            "value": " 39657/? [00:15&lt;00:00, 2629.66lines/s]",
            "_view_count": null,
            "_view_module_version": "1.5.0",
            "description_tooltip": null,
            "_model_module": "@jupyter-widgets/controls",
            "layout": "IPY_MODEL_47c3c1fe3059436caea2ad4e32ad5c03"
          }
        },
        "b2323237fe104fa3bfe3c79295d8941c": {
          "model_module": "@jupyter-widgets/controls",
          "model_name": "ProgressStyleModel",
          "state": {
            "_view_name": "StyleView",
            "_model_name": "ProgressStyleModel",
            "description_width": "initial",
            "_view_module": "@jupyter-widgets/base",
            "_model_module_version": "1.5.0",
            "_view_count": null,
            "_view_module_version": "1.2.0",
            "bar_color": null,
            "_model_module": "@jupyter-widgets/controls"
          }
        },
        "7cc6d685c20d4ed3b5a81c5727da1032": {
          "model_module": "@jupyter-widgets/base",
          "model_name": "LayoutModel",
          "state": {
            "_view_name": "LayoutView",
            "grid_template_rows": null,
            "right": null,
            "justify_content": null,
            "_view_module": "@jupyter-widgets/base",
            "overflow": null,
            "_model_module_version": "1.2.0",
            "_view_count": null,
            "flex_flow": null,
            "width": null,
            "min_width": null,
            "border": null,
            "align_items": null,
            "bottom": null,
            "_model_module": "@jupyter-widgets/base",
            "top": null,
            "grid_column": null,
            "overflow_y": null,
            "overflow_x": null,
            "grid_auto_flow": null,
            "grid_area": null,
            "grid_template_columns": null,
            "flex": null,
            "_model_name": "LayoutModel",
            "justify_items": null,
            "grid_row": null,
            "max_height": null,
            "align_content": null,
            "visibility": null,
            "align_self": null,
            "height": null,
            "min_height": null,
            "padding": null,
            "grid_auto_rows": null,
            "grid_gap": null,
            "max_width": null,
            "order": null,
            "_view_module_version": "1.2.0",
            "grid_template_areas": null,
            "object_position": null,
            "object_fit": null,
            "grid_auto_columns": null,
            "margin": null,
            "display": null,
            "left": null
          }
        },
        "d78900c90eaf4de5aa94d0357191542f": {
          "model_module": "@jupyter-widgets/controls",
          "model_name": "DescriptionStyleModel",
          "state": {
            "_view_name": "StyleView",
            "_model_name": "DescriptionStyleModel",
            "description_width": "",
            "_view_module": "@jupyter-widgets/base",
            "_model_module_version": "1.5.0",
            "_view_count": null,
            "_view_module_version": "1.2.0",
            "_model_module": "@jupyter-widgets/controls"
          }
        },
        "47c3c1fe3059436caea2ad4e32ad5c03": {
          "model_module": "@jupyter-widgets/base",
          "model_name": "LayoutModel",
          "state": {
            "_view_name": "LayoutView",
            "grid_template_rows": null,
            "right": null,
            "justify_content": null,
            "_view_module": "@jupyter-widgets/base",
            "overflow": null,
            "_model_module_version": "1.2.0",
            "_view_count": null,
            "flex_flow": null,
            "width": null,
            "min_width": null,
            "border": null,
            "align_items": null,
            "bottom": null,
            "_model_module": "@jupyter-widgets/base",
            "top": null,
            "grid_column": null,
            "overflow_y": null,
            "overflow_x": null,
            "grid_auto_flow": null,
            "grid_area": null,
            "grid_template_columns": null,
            "flex": null,
            "_model_name": "LayoutModel",
            "justify_items": null,
            "grid_row": null,
            "max_height": null,
            "align_content": null,
            "visibility": null,
            "align_self": null,
            "height": null,
            "min_height": null,
            "padding": null,
            "grid_auto_rows": null,
            "grid_gap": null,
            "max_width": null,
            "order": null,
            "_view_module_version": "1.2.0",
            "grid_template_areas": null,
            "object_position": null,
            "object_fit": null,
            "grid_auto_columns": null,
            "margin": null,
            "display": null,
            "left": null
          }
        }
      }
    }
  },
  "cells": [
    {
      "cell_type": "code",
      "metadata": {
        "id": "C7zenqey_rHi",
        "colab_type": "code",
        "colab": {
          "base_uri": "https://localhost:8080/",
          "height": 230
        },
        "outputId": "66fbd805-5805-4709-e4c9-785e67b400a1"
      },
      "source": [
        "import torch.nn as nn\n",
        "embedding_sum = nn.EmbeddingBag(10, 3, mode = 'sum')\n",
        "input = torch.LongTensor([1,2,4,5,4,3,2,9])\n",
        "offsets = torch.LongTensor([0,4])\n",
        "embedding_sum(input, offsets)"
      ],
      "execution_count": null,
      "outputs": [
        {
          "output_type": "error",
          "ename": "NameError",
          "evalue": "ignored",
          "traceback": [
            "\u001b[0;31m---------------------------------------------------------------------------\u001b[0m",
            "\u001b[0;31mNameError\u001b[0m                                 Traceback (most recent call last)",
            "\u001b[0;32m<ipython-input-1-7985cf6ab7ea>\u001b[0m in \u001b[0;36m<module>\u001b[0;34m()\u001b[0m\n\u001b[1;32m      1\u001b[0m \u001b[0;32mimport\u001b[0m \u001b[0mtorch\u001b[0m\u001b[0;34m.\u001b[0m\u001b[0mnn\u001b[0m \u001b[0;32mas\u001b[0m \u001b[0mnn\u001b[0m\u001b[0;34m\u001b[0m\u001b[0;34m\u001b[0m\u001b[0m\n\u001b[1;32m      2\u001b[0m \u001b[0membedding_sum\u001b[0m \u001b[0;34m=\u001b[0m \u001b[0mnn\u001b[0m\u001b[0;34m.\u001b[0m\u001b[0mEmbeddingBag\u001b[0m\u001b[0;34m(\u001b[0m\u001b[0;36m10\u001b[0m\u001b[0;34m,\u001b[0m \u001b[0;36m3\u001b[0m\u001b[0;34m,\u001b[0m \u001b[0mmode\u001b[0m \u001b[0;34m=\u001b[0m \u001b[0;34m'sum'\u001b[0m\u001b[0;34m)\u001b[0m\u001b[0;34m\u001b[0m\u001b[0;34m\u001b[0m\u001b[0m\n\u001b[0;32m----> 3\u001b[0;31m \u001b[0minput\u001b[0m \u001b[0;34m=\u001b[0m \u001b[0mtorch\u001b[0m\u001b[0;34m.\u001b[0m\u001b[0mLongTensor\u001b[0m\u001b[0;34m(\u001b[0m\u001b[0;34m[\u001b[0m\u001b[0;36m1\u001b[0m\u001b[0;34m,\u001b[0m\u001b[0;36m2\u001b[0m\u001b[0;34m,\u001b[0m\u001b[0;36m4\u001b[0m\u001b[0;34m,\u001b[0m\u001b[0;36m5\u001b[0m\u001b[0;34m,\u001b[0m\u001b[0;36m4\u001b[0m\u001b[0;34m,\u001b[0m\u001b[0;36m3\u001b[0m\u001b[0;34m,\u001b[0m\u001b[0;36m2\u001b[0m\u001b[0;34m,\u001b[0m\u001b[0;36m9\u001b[0m\u001b[0;34m]\u001b[0m\u001b[0;34m)\u001b[0m\u001b[0;34m\u001b[0m\u001b[0;34m\u001b[0m\u001b[0m\n\u001b[0m\u001b[1;32m      4\u001b[0m \u001b[0moffsets\u001b[0m \u001b[0;34m=\u001b[0m \u001b[0mtorch\u001b[0m\u001b[0;34m.\u001b[0m\u001b[0mLongTensor\u001b[0m\u001b[0;34m(\u001b[0m\u001b[0;34m[\u001b[0m\u001b[0;36m0\u001b[0m\u001b[0;34m,\u001b[0m\u001b[0;36m4\u001b[0m\u001b[0;34m]\u001b[0m\u001b[0;34m)\u001b[0m\u001b[0;34m\u001b[0m\u001b[0;34m\u001b[0m\u001b[0m\n\u001b[1;32m      5\u001b[0m \u001b[0membedding_sum\u001b[0m\u001b[0;34m(\u001b[0m\u001b[0minput\u001b[0m\u001b[0;34m,\u001b[0m \u001b[0moffsets\u001b[0m\u001b[0;34m)\u001b[0m\u001b[0;34m\u001b[0m\u001b[0;34m\u001b[0m\u001b[0m\n",
            "\u001b[0;31mNameError\u001b[0m: name 'torch' is not defined"
          ]
        }
      ]
    },
    {
      "cell_type": "code",
      "metadata": {
        "id": "8tWJOkmc_Ri0",
        "colab_type": "code",
        "colab": {}
      },
      "source": [
        "# input, output 이 정확히 어떤 형태로 들어가는지 모르니까 그냥 그대로 따라하기 급급함\n",
        "# 근데 어떤 형태로, 어떤식으로 변환해서 들어가느지 파악하기가 너무 어려움\n",
        "# 전처리 함수와 클래스가 많고, 그 순서에 따라 추상적인 생각을 잘 하지 못함 \n",
        "\n",
        "# 정리 \n",
        "# embedding bag 의 input 값이 어떻게 생겼는지 알아야 함\n",
        "# embe"
      ],
      "execution_count": null,
      "outputs": []
    },
    {
      "cell_type": "code",
      "metadata": {
        "id": "GK0RLZaIjqPb",
        "colab_type": "code",
        "colab": {}
      },
      "source": [
        "train_data = 'you need to know how to code'\n",
        "word_set = set(train_data.split())\n",
        "vocab = {tkn : i + 2 for i , tkn in enumerate(word_set)}\n",
        "vocab['<unk>'] = 0\n",
        "vocab['<pad>'] = 1"
      ],
      "execution_count": null,
      "outputs": []
    },
    {
      "cell_type": "code",
      "metadata": {
        "id": "kfkr0_rrB5T2",
        "colab_type": "code",
        "colab": {}
      },
      "source": [
        "import torch.nn as nn\n",
        "embedding_layer = nn.Embedding(num_embeddings=len(vocab),  # 임베딩 해야할 단어 갯수, unique 단어집합\n",
        "                               embedding_dim = 3, # 임베딩 할 벡터의 차원 , 직접 정할 수 있음\n",
        "                               padding_idx = 1) # 패딩을 위한 토큰 인덱스"
      ],
      "execution_count": null,
      "outputs": []
    },
    {
      "cell_type": "code",
      "metadata": {
        "id": "H0eSsNFHCsrl",
        "colab_type": "code",
        "colab": {}
      },
      "source": [
        "t_data = df_raw[3][0]\n",
        "word_set = set(t_data.split())\n",
        "vocab = {w : i +2 for i, w in enumerate(word_set)}\n",
        "vocab['<unk>'] = 0\n",
        "vocab['<pad>'] = 1"
      ],
      "execution_count": null,
      "outputs": []
    },
    {
      "cell_type": "code",
      "metadata": {
        "id": "fhq7rY0RC2Fd",
        "colab_type": "code",
        "colab": {}
      },
      "source": [
        "embedding_layer = nn.Embedding(num_embeddings = len(vocab),\n",
        "                               embedding_dim = 512,\n",
        "                               padding_idx = 10)"
      ],
      "execution_count": null,
      "outputs": []
    },
    {
      "cell_type": "code",
      "metadata": {
        "id": "zNxcqWVIDQaN",
        "colab_type": "code",
        "colab": {}
      },
      "source": [
        "embedding_sum = nn.EmbeddingBag(9, 5,mode = 'sum')\n",
        "input = torch.LongTensor([1,3,5,7,10,1,3,5,7,10])\n",
        "offsets = torch.LongTensor([0,3])\n",
        "\n",
        "embedding_sum(input, offsets)"
      ],
      "execution_count": null,
      "outputs": []
    },
    {
      "cell_type": "code",
      "metadata": {
        "id": "3eplumiCKUzA",
        "colab_type": "code",
        "colab": {}
      },
      "source": [
        "import pandas as pd\n",
        "import torch\n",
        "import torchtext\n",
        "from torchtext.datasets import text_classification\n",
        "NGRAMS = 2\n",
        "import os\n",
        "device = torch.device(\"cuda\" if torch.cuda.is_available() else \"cpu\")\n",
        "BATCH_SIZE = 16\n",
        "from torchtext.utils import download_from_url, extract_archive, unicode_csv_reader\n",
        "from torchtext.data.utils import ngrams_iterator\n",
        "from torchtext.data.utils import get_tokenizer\n",
        "from torchtext.vocab import build_vocab_from_iterator\n",
        "import tqdm"
      ],
      "execution_count": null,
      "outputs": []
    },
    {
      "cell_type": "code",
      "metadata": {
        "id": "mdLCW6PDKzxw",
        "colab_type": "code",
        "colab": {}
      },
      "source": [
        "df = pd.read_csv('/content/drive/My Drive/korean_embedding/raw_data/playstore_craw_data.csv', header = None)"
      ],
      "execution_count": null,
      "outputs": []
    },
    {
      "cell_type": "code",
      "metadata": {
        "id": "_ekwjwBwrn77",
        "colab_type": "code",
        "colab": {}
      },
      "source": [
        "def ngrams_iterator(token_list, ngrams):\n",
        "    \"\"\"Return an iterator that yields the given tokens and their ngrams.\n",
        "    Arguments:\n",
        "        token_list: A list of tokens\n",
        "        ngrams: the number of ngrams.\n",
        "    Examples:\n",
        "        >>> token_list = ['here', 'we', 'are']\n",
        "        >>> list(ngrams_iterator(token_list, 2))\n",
        "        >>> ['here', 'here we', 'we', 'we are', 'are']\n",
        "    \"\"\"\n",
        "\n",
        "    def _get_ngrams(n):\n",
        "        return zip(*[token_list[i:] for i in range(n)])\n",
        "\n",
        "    #for x in token_list:\n",
        "    #    yield x\n",
        "    for n in range(2, ngrams + 1):\n",
        "        for x in _get_ngrams(n):\n",
        "            yield ' '.join(x)\n"
      ],
      "execution_count": null,
      "outputs": []
    },
    {
      "cell_type": "code",
      "metadata": {
        "id": "yIXN8tgOwKGb",
        "colab_type": "code",
        "colab": {}
      },
      "source": [
        "token_list = []\n",
        "for row in df_raw.values:\n",
        "    tokens = ' '.join(row[1:])\n",
        "    tokens  = tokens.split(' ')\n",
        "    token_list.extend(tokens)\n",
        "\n",
        "index2token = { i : x for i, x in enumerate(set(token_list))}\n",
        "token2index = { x : i for i, x in enumerate(set(token_list))}\n",
        "\n",
        "label2cate = {}\n",
        "cate2label = {}\n",
        "for i, cate in enumerate(df_raw[5].unique()):\n",
        "    label2cate[i] = cate \n",
        "    cate2label[cate] = i\n"
      ],
      "execution_count": null,
      "outputs": []
    },
    {
      "cell_type": "code",
      "metadata": {
        "id": "aqqIlDNcnVUU",
        "colab_type": "code",
        "colab": {}
      },
      "source": [
        "def _csv_iterator(df_raw, ngrams,  yield_cls=False):\n",
        "    for row in df_raw.values:   \n",
        "        tokens =' '.join(row[1:])\n",
        "        tokens = tokens.split(' ')\n",
        "        #token_idx = torch.tensor([token2index[t] for t in tokens])\n",
        "    # print(tokens)\n",
        "        if yield_cls :\n",
        "            yield int(cate2label[row[0]]) - 1, ngrams_iterator(tokens, ngrams)\n",
        "            #print(list(result))\n",
        "        else :\n",
        "            yield ngrams_iterator(tokens, ngrams)"
      ],
      "execution_count": null,
      "outputs": []
    },
    {
      "cell_type": "code",
      "metadata": {
        "id": "2ZbyByFPsCpz",
        "colab_type": "code",
        "colab": {}
      },
      "source": [
        "def _create_data_from_iterator(vocab, iterator, include_unk):\n",
        "    data = []\n",
        "    labels = []\n",
        "    with tqdm.notebook.tqdm(unit_scale=0, unit='lines') as t:\n",
        "        for cls, tokens in iterator:\n",
        "            if include_unk:\n",
        "                tokens = torch.tensor([vocab[token] for token in tokens])\n",
        "            else:\n",
        "                token_ids = list(filter(lambda x: x is not Vocab.UNK, [vocab[token]\n",
        "                                        for token in tokens]))\n",
        "                tokens = torch.tensor(token_ids)\n",
        "            if len(tokens) == 0:\n",
        "                logging.info('Row contains no tokens.')\n",
        "            data.append((cls, tokens))\n",
        "            labels.append(cls)\n",
        "            t.update(1)\n",
        "    return data, set(labels)"
      ],
      "execution_count": null,
      "outputs": []
    },
    {
      "cell_type": "code",
      "metadata": {
        "id": "elIXykZawixo",
        "colab_type": "code",
        "colab": {
          "base_uri": "https://localhost:8080/",
          "height": 66,
          "referenced_widgets": [
            "9f1752b96db54986a11b3ccfb8269c7e",
            "c38a21e0e2da443c8b60a78ad00be388",
            "14b81bbce8f84065aeb9559dce34efad",
            "d0cc8f4dab734f03975085983f2c4073",
            "b2323237fe104fa3bfe3c79295d8941c",
            "7cc6d685c20d4ed3b5a81c5727da1032",
            "d78900c90eaf4de5aa94d0357191542f",
            "47c3c1fe3059436caea2ad4e32ad5c03"
          ]
        },
        "outputId": "0b2e39b1-ff7f-470d-aad6-c956ef283b8f"
      },
      "source": [
        "include_unk = True\n",
        "train_data, train_labels = _create_data_from_iterator(\n",
        "        vocab, _csv_iterator(df_raw, ngrams, yield_cls=True), include_unk)"
      ],
      "execution_count": null,
      "outputs": [
        {
          "output_type": "display_data",
          "data": {
            "application/vnd.jupyter.widget-view+json": {
              "model_id": "9f1752b96db54986a11b3ccfb8269c7e",
              "version_minor": 0,
              "version_major": 2
            },
            "text/plain": [
              "HBox(children=(FloatProgress(value=1.0, bar_style='info', max=1.0), HTML(value='')))"
            ]
          },
          "metadata": {
            "tags": []
          }
        },
        {
          "output_type": "stream",
          "text": [
            "\n"
          ],
          "name": "stdout"
        }
      ]
    },
    {
      "cell_type": "code",
      "metadata": {
        "id": "qfgRHF38veOF",
        "colab_type": "code",
        "colab": {
          "base_uri": "https://localhost:8080/",
          "height": 162
        },
        "outputId": "72f69d46-20f2-4d7e-abc0-054d62355251"
      },
      "source": [
        "train_data.get_vocab()"
      ],
      "execution_count": null,
      "outputs": [
        {
          "output_type": "error",
          "ename": "AttributeError",
          "evalue": "ignored",
          "traceback": [
            "\u001b[0;31m---------------------------------------------------------------------------\u001b[0m",
            "\u001b[0;31mAttributeError\u001b[0m                            Traceback (most recent call last)",
            "\u001b[0;32m<ipython-input-95-03cf2e5315fd>\u001b[0m in \u001b[0;36m<module>\u001b[0;34m()\u001b[0m\n\u001b[0;32m----> 1\u001b[0;31m \u001b[0mtrain_data\u001b[0m\u001b[0;34m.\u001b[0m\u001b[0mget_vocab\u001b[0m\u001b[0;34m(\u001b[0m\u001b[0;34m)\u001b[0m\u001b[0;34m\u001b[0m\u001b[0;34m\u001b[0m\u001b[0m\n\u001b[0m",
            "\u001b[0;31mAttributeError\u001b[0m: 'list' object has no attribute 'get_vocab'"
          ]
        }
      ]
    },
    {
      "cell_type": "code",
      "metadata": {
        "id": "2DsB_LXcK5ST",
        "colab_type": "code",
        "colab": {}
      },
      "source": [
        "1df_raw = df[[5,1,3]]"
      ],
      "execution_count": null,
      "outputs": []
    },
    {
      "cell_type": "code",
      "metadata": {
        "id": "tfx5_v4VLapB",
        "colab_type": "code",
        "colab": {}
      },
      "source": [
        "label2cate = {}\n",
        "cate2label = {}\n",
        "for i, cate in enumerate(df_raw[5].unique()):\n",
        "    label2cate[i] = cate \n",
        "    cate2label[cate] = i\n"
      ],
      "execution_count": null,
      "outputs": []
    },
    {
      "cell_type": "code",
      "metadata": {
        "id": "Ov5qAakxmGWn",
        "colab_type": "code",
        "colab": {}
      },
      "source": [
        "tokenizer = get_tokenizer(\"basic_english\")"
      ],
      "execution_count": null,
      "outputs": []
    },
    {
      "cell_type": "code",
      "metadata": {
        "id": "2gV99tORqvL8",
        "colab_type": "code",
        "colab": {
          "base_uri": "https://localhost:8080/",
          "height": 34
        },
        "outputId": "0561043c-b581-47a3-a05e-c7f7f233804f"
      },
      "source": [
        "tok=tokenizer('hi my name is jsp what is your name')\n",
        "ngrams_iterator(tok, 2)"
      ],
      "execution_count": null,
      "outputs": [
        {
          "output_type": "execute_result",
          "data": {
            "text/plain": [
              "<generator object ngrams_iterator at 0x7fe027adf0f8>"
            ]
          },
          "metadata": {
            "tags": []
          },
          "execution_count": 29
        }
      ]
    },
    {
      "cell_type": "code",
      "metadata": {
        "id": "vSYKtPowSafn",
        "colab_type": "code",
        "colab": {
          "base_uri": "https://localhost:8080/",
          "height": 34
        },
        "outputId": "ecb810cf-a201-4704-e22f-d4388b825b79"
      },
      "source": [
        "for row in df_raw[3]:\n",
        "    tokens = ' '.join(row)\n",
        "    print(len(tokens))\n",
        "    break"
      ],
      "execution_count": null,
      "outputs": [
        {
          "output_type": "stream",
          "text": [
            "2063\n"
          ],
          "name": "stdout"
        }
      ]
    },
    {
      "cell_type": "code",
      "metadata": {
        "id": "-BeC4KGZSibh",
        "colab_type": "code",
        "colab": {
          "base_uri": "https://localhost:8080/",
          "height": 34
        },
        "outputId": "677b6825-17ae-4ad8-fc51-fe7839b9d0d2"
      },
      "source": [
        "vocab = build_vocab_from_iterator(ngrams_iterator(tokens, 2))"
      ],
      "execution_count": null,
      "outputs": [
        {
          "output_type": "stream",
          "text": [
            "4121lines [00:00, 206720.49lines/s]\n"
          ],
          "name": "stderr"
        }
      ]
    },
    {
      "cell_type": "code",
      "metadata": {
        "id": "PwGEXlyqTiUQ",
        "colab_type": "code",
        "colab": {
          "base_uri": "https://localhost:8080/",
          "height": 34
        },
        "outputId": "44160021-b286-45f0-d614-2366b511ef6a"
      },
      "source": [
        "vocab"
      ],
      "execution_count": null,
      "outputs": [
        {
          "output_type": "execute_result",
          "data": {
            "text/plain": [
              "<torchtext.vocab.Vocab at 0x7fe0300b2898>"
            ]
          },
          "metadata": {
            "tags": []
          },
          "execution_count": 9
        }
      ]
    },
    {
      "cell_type": "code",
      "metadata": {
        "id": "qt26QD14Km7G",
        "colab_type": "code",
        "colab": {}
      },
      "source": [
        "import torch.nn as nn\n",
        "import torch.nn.functional as F\n",
        "class TextSentiment(nn.Module):\n",
        "    def __init__(self, vocab_size, embed_dim, num_class):\n",
        "        super().__init__()\n",
        "        self.embedding = nn.EmbeddingBag(vocab_size, embed_dim, sparse=True)\n",
        "        self.fc = nn.Linear(embed_dim, num_class)\n",
        "        self.init_weights()\n",
        "\n",
        "    def init_weights(self):\n",
        "        initrange = 0.5\n",
        "        self.embedding.weight.data.uniform_(-initrange, initrange)\n",
        "        self.fc.weight.data.uniform_(-initrange, initrange)\n",
        "        self.fc.bias.data.zero_()\n",
        "\n",
        "    def forward(self, text, offsets):\n",
        "        embedded = self.embedding(text, offsets)\n",
        "        return self.fc(embedded)"
      ],
      "execution_count": null,
      "outputs": []
    },
    {
      "cell_type": "code",
      "metadata": {
        "id": "F4EjR-pjShxy",
        "colab_type": "code",
        "colab": {
          "base_uri": "https://localhost:8080/",
          "height": 165
        },
        "outputId": "d96f34a6-7f3c-4f10-e862-4e62fdae5d27"
      },
      "source": [
        "TextSentiment()"
      ],
      "execution_count": null,
      "outputs": [
        {
          "output_type": "error",
          "ename": "NameError",
          "evalue": "ignored",
          "traceback": [
            "\u001b[0;31m---------------------------------------------------------------------------\u001b[0m",
            "\u001b[0;31mNameError\u001b[0m                                 Traceback (most recent call last)",
            "\u001b[0;32m<ipython-input-11-019b40e64e3d>\u001b[0m in \u001b[0;36m<module>\u001b[0;34m()\u001b[0m\n\u001b[0;32m----> 1\u001b[0;31m \u001b[0mTextSentiment\u001b[0m\u001b[0;34m(\u001b[0m\u001b[0;34m)\u001b[0m\u001b[0;34m\u001b[0m\u001b[0;34m\u001b[0m\u001b[0m\n\u001b[0m",
            "\u001b[0;31mNameError\u001b[0m: name 'TextSentiment' is not defined"
          ]
        }
      ]
    },
    {
      "cell_type": "code",
      "metadata": {
        "id": "XOQfei6WKzST",
        "colab_type": "code",
        "colab": {}
      },
      "source": [
        ""
      ],
      "execution_count": null,
      "outputs": []
    }
  ]
}
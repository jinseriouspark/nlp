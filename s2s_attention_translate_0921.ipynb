{
  "nbformat": 4,
  "nbformat_minor": 0,
  "metadata": {
    "colab": {
      "name": "s2s_attention_translate_0921",
      "provenance": [],
      "collapsed_sections": []
    },
    "kernelspec": {
      "name": "python3",
      "display_name": "Python 3"
    }
  },
  "cells": [
    {
      "cell_type": "markdown",
      "metadata": {
        "id": "e345Q8xuant-",
        "colab_type": "text"
      },
      "source": [
        "## 설명\n",
        "- 하나의 시퀀스를 다른 시퀀스로 바꾸는 2개의 RNN 이 동시 동작하는 s2s 네트워크\n",
        "- encoder network : 입력 시퀀스를 벡터로 압축\n",
        "- decoder network : 압축된 벡터를 새로운 시퀀스로 펼침\n",
        "\n"
      ]
    },
    {
      "cell_type": "code",
      "metadata": {
        "id": "UweEuPAwaezV",
        "colab_type": "code",
        "colab": {}
      },
      "source": [
        "from __future__ import unicode_literals, print_function, division\n",
        "from io import open \n",
        "import unicodedata\n",
        "import string\n",
        "import re\n",
        "import tqdm\n",
        "import random\n",
        "\n",
        "import torch\n",
        "import torch.nn as nn\n",
        "from torch import optim\n",
        "import torch.nn.functional as F\n",
        "\n",
        "device = torch.device(\"cuda\" if torch.cuda.is_available() else \"cpu\")"
      ],
      "execution_count": 10,
      "outputs": []
    },
    {
      "cell_type": "markdown",
      "metadata": {
        "id": "dmKdHtt6c3R5",
        "colab_type": "text"
      },
      "source": [
        "- 문자 단위 RNN 튜토리언 내 문자 인코딩과 유사하게, 언어의 각 단어를 one-hot 벡터로 표현\n",
        "- 나중에 네트워크 입력 및 목표로 사용하기 위해서는 단어당 고유 번호가 필요\n",
        "- word2index, index2word 사전을 준비\n",
        "- 희귀 단어를 대체하는 데 사용할, 각 단어 빈도를 가진 클래스도 사용 예정"
      ]
    },
    {
      "cell_type": "code",
      "metadata": {
        "id": "xr8OXtWpcr9G",
        "colab_type": "code",
        "colab": {}
      },
      "source": [
        "SOS_token = 0\n",
        "EOS_token = 1\n",
        "\n",
        "class Lang:\n",
        "  def __init__(self, name):\n",
        "    self.name = name\n",
        "    self.word2index = {}\n",
        "    self.word2count = {}\n",
        "    self.index2word = {0: \"SOS\", 1: \"EOS\"}\n",
        "    self.n_words = 2 #SOS, EOS 모두 포함\n",
        "\n",
        "  def addSentence(self, sentence):\n",
        "    for word in sentence.split(' '):\n",
        "      self.addWord(word)\n",
        "\n",
        "  def addWord(self, word):\n",
        "    if word not in self.word2index:\n",
        "      self.word2index[word] = self.n_words\n",
        "      self.word2count[word] = 1\n",
        "      self.index2word[self.n_words] = word\n",
        "      self.n_words += 1\n",
        "    else :\n",
        "      self.word2count[word] += 1\n"
      ],
      "execution_count": 11,
      "outputs": []
    },
    {
      "cell_type": "code",
      "metadata": {
        "id": "3QyhJSd9evCv",
        "colab_type": "code",
        "colab": {}
      },
      "source": [
        "# 유니코드 문자열을 일반 ascii 로 변환\n",
        "def unicodeToAscii(s):\n",
        "  return ''.join(\n",
        "      c for c in unicodedata.normalize('NFD', s)\n",
        "      if unicodedata.category(c) != 'Mn'\n",
        "  )\n",
        "\n",
        "def normalizeString(s):\n",
        "  s  = unicodeToAscii(s.lower().strip()) #소문자 다듬고 합치고\n",
        "  s = re.sub(r\"([.!?])\", r\" \\1\", s) # 문자가 아닌 문자들 제거\n",
        "  s = re.sub(r\"[^a-zA-z.!?]+\", r\" \", s)# 아닌 것들 공백으로 변경\n",
        "  return s\n",
        "  "
      ],
      "execution_count": 12,
      "outputs": []
    },
    {
      "cell_type": "code",
      "metadata": {
        "id": "bVwh1R56fboQ",
        "colab_type": "code",
        "colab": {}
      },
      "source": [
        "def readLangs(lang1, lang2, reverse = False):\n",
        "  print(\"Reading lines...\")\n",
        "  # 파일을 읽고 줄로 분리 \n",
        "  lines = open('/content/drive/My Drive/korean_embedding/raw_data/data/data/%s-%s.txt' % (lang1, lang2), encoding = 'utf-8'). \\\n",
        "  read().strip().split('\\n')\n",
        "\n",
        "  # 모든줄을 쌍으로 분리하고 정규화\n",
        "  pairs = [[normalizeString(s) for s in l.split('\\t')] for l in lines]\n",
        "  \n",
        "  #쌍을 뒤집고 lang 인스턴스 생성\n",
        "  if reverse:\n",
        "    pairs = [list(reversed(p)) for p in pairs]\n",
        "    input_lang = Lang(lang2)\n",
        "    output_lang = Lang(lang1)\n",
        "  else:\n",
        "    input_lang = Lang(lang1)\n",
        "    ouput_lang = Lnag(lang2)\n",
        "  return input_lang, output_lang, pairs\n"
      ],
      "execution_count": 13,
      "outputs": []
    },
    {
      "cell_type": "code",
      "metadata": {
        "id": "prOD18tigifZ",
        "colab_type": "code",
        "colab": {}
      },
      "source": [
        "MAX_LENGTH = 10\n",
        "\n",
        "eng_prefixes = (\n",
        "    \"i am \", \"i m \",\n",
        "    \"he is\", \"he s \",\n",
        "    \"she is\", \"she s \",\n",
        "    \"you are\", \"you re \",\n",
        "    \"we are\", \"we re \",\n",
        "    \"they are\", \"they re \"\n",
        ")\n",
        "\n",
        "def filterPair(p):\n",
        "  return len(p[0].split(' ')) < MAX_LENGTH and len(p[1].split(' ')) < MAX_LENGTH and p[1].startswith(eng_prefixes)\n",
        "\n",
        "def filterPairs(pairs):\n",
        "  return [pair for pair in pairs if filterPair(pair)]\n"
      ],
      "execution_count": 14,
      "outputs": []
    },
    {
      "cell_type": "markdown",
      "metadata": {
        "id": "LVm62IJNhE1L",
        "colab_type": "text"
      },
      "source": [
        "데이터 준비\n",
        "- 텍스트 파일을 읽음\n",
        "- 줄로 분리\n",
        "- 줄을 쌍으로 분리\n",
        "- 텍스트 정규화 하고 길이와 내용으로 필터링\n",
        "- 쌍을 이룬 문장들로 단어 리스트 생성"
      ]
    },
    {
      "cell_type": "code",
      "metadata": {
        "id": "q9J16xclglco",
        "colab_type": "code",
        "colab": {
          "base_uri": "https://localhost:8080/",
          "height": 155
        },
        "outputId": "d364c46c-97e1-4c9f-d63c-ded55e57fdbe"
      },
      "source": [
        "def prepareData(lang1, lang2, reverse = False):\n",
        "  input_lang, output_lang, pairs = readLangs(lang1, lang2, reverse)\n",
        "  print('Read %s sentence pairs' % len(pairs))\n",
        "  pairs = filterPairs(pairs)\n",
        "  print('Trimmed to %s sentence pairs' % len(pairs))\n",
        "  print('Counting words...')\n",
        "  for pair in pairs : \n",
        "    input_lang.addSentence(pair[0])\n",
        "    output_lang.addSentence(pair[1])\n",
        "  print(\"Counted words: \")\n",
        "  print(input_lang.name, input_lang.n_words)\n",
        "  print(output_lang.name, output_lang.n_words)\n",
        "  return input_lang, output_lang, pairs\n",
        "\n",
        "input_lang, output_lang, pairs = prepareData('eng', 'fra', True)\n",
        "print(random.choice(pairs))"
      ],
      "execution_count": 15,
      "outputs": [
        {
          "output_type": "stream",
          "text": [
            "Reading lines...\n",
            "Read 135842 sentence pairs\n",
            "Trimmed to 10599 sentence pairs\n",
            "Counting words...\n",
            "Counted words: \n",
            "fra 4345\n",
            "eng 2803\n",
            "['elle ne m est pas etrangere .', 'she is no stranger to me .']\n"
          ],
          "name": "stdout"
        }
      ]
    },
    {
      "cell_type": "markdown",
      "metadata": {
        "id": "P9ggnxjgiFaj",
        "colab_type": "text"
      },
      "source": [
        "## Seq2Se2 모델\n",
        "- 인코더 : 프랑스어 문장을 RNN 사용하여 읽어들여 단일 벡터를 출력\n",
        "  - 입력 문장의 모든 단어에 대해 어떤 값을 출력하는 RNN\n",
        "  - 모든 입력 단어에 대해 벡터 & 은닉상태 출력\n",
        "  - 이때의 은닉상태는 다음 단어에 적용\n",
        "\n",
        "- 디코더 : 해당 벡터를 받아 번역을 생성하기 위한 단어 시퀀스를 출력\n",
        "  - 인코더의 마지막 출력만 이용 : 문맥벡터가 전체 시퀀스의 문맥을 인코딩\n",
        "  - 디코더의 초기 은닉 상태로 사용\n",
        "  - 매 단계에서 input, prev_hidden 이 주어짐\n",
        "  - 초기 토큰은 start-of-string SOS 이 주어짐"
      ]
    },
    {
      "cell_type": "code",
      "metadata": {
        "id": "r9EQ4FjPh4KP",
        "colab_type": "code",
        "colab": {}
      },
      "source": [
        "class EncoderRNN(nn.Module):\n",
        "  def __init__(self, input_size, hidden_size):\n",
        "    super(EncoderRNN, self).__init__()\n",
        "    self.hidden_size = hidden_size\n",
        "\n",
        "    self.embedding = nn.Embedding(input_size, hidden_size)\n",
        "    self.gru = nn.GRU(hidden_size, hidden_size)\n",
        "\n",
        "  def forward(self, input, hidden):\n",
        "    embedded = self.embedding(input).view(1, 1, -1) # 인풋값을 임베딩하고 \n",
        "    output = embedded\n",
        "    output, hidden = self.gru(output, hidden)  #그것을 gru gated united recurrent\n",
        "    return output, hidden\n",
        "\n",
        "  def initHidden(self):\n",
        "    return torch.zeros(1, 1, self.hidden_size, device = device)\n",
        "    "
      ],
      "execution_count": 16,
      "outputs": []
    },
    {
      "cell_type": "code",
      "metadata": {
        "id": "q4CO6YDXkfvw",
        "colab_type": "code",
        "colab": {}
      },
      "source": [
        "class DecoderRNN(nn.Module):\n",
        "  def __init__(self, hidden_size, output_size):\n",
        "    super(DecoderRNN, self).__init__()\n",
        "    self.hidden_size = hidden_size\n",
        "\n",
        "    self.embedding = nn.Embedding(output_size, hidden_size)\n",
        "    self.gru = nn.GRU(hidden_size, hidden_size)\n",
        "    self.out = nn.Linear(hidden_size, output_size)\n",
        "    self.softmax = nn.LogSoftmax(dim = 1)\n",
        "\n",
        "  def forward(self, input, hidden):\n",
        "    output = self.embedding(input).view(1, 1, -1)\n",
        "    output = F.relu(output)\n",
        "    output, hidden = self.gru(output, hidden)\n",
        "    output = self.softmax(self.out(output[0]))\n",
        "    return output, hidden\n",
        "\n",
        "  def initHidden(self):\n",
        "    return torch.zeros(1, 1, self.hidden_size, deivce = device)\n",
        "    "
      ],
      "execution_count": 17,
      "outputs": []
    },
    {
      "cell_type": "markdown",
      "metadata": {
        "id": "Czs0egQtl3U5",
        "colab_type": "text"
      },
      "source": [
        "## Attention 디코더\n",
        "- 문맥 벡터만 인코더-디코더로 전달된다면? 단일 벡터가 전체 문장을 인코딩 해야 하는 상황\n",
        "- Attention 은 디코더 네트워크가 자기 출력의 모든 단계에서, 인코더 출력의 다른 부분에 attention 할 수 있게 함\n",
        "  1. attention 가중치 세트를 계산 \n",
        "   -  가중치 조합을 만들기 위해 인코더 출력 벡터와 곱해짐\n",
        "   - attn_applied 는 입력 시퀀스 특정 부분에 관한 정보를 포함하여, 디코더가 알맞은 출력 단어를 선택하고도록 함\n",
        "   - 이 계산은 디코더의 입력 및 은닉 상태를 입력으로 사용하는 다른 feed-forward 계층인 attn 으로 수행\n",
        "   - 이 계층은 실제 문장 길이를 사용하지 않고, 인코더 출력을 위한 최대 문장 길이를 선택\n",
        "\n",
        "   ![attention-decoder-network.png](data:image/png;base64,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)"
      ]
    },
    {
      "cell_type": "code",
      "metadata": {
        "id": "orhvdxXyl1To",
        "colab_type": "code",
        "colab": {}
      },
      "source": [
        "class AttnDecoderRNN(nn.Module):\n",
        "  def __init__(self, hidden_size, output_size, dropout_p = 0.1, max_length=MAX_LENGTH):\n",
        "    super(AttnDecoderRNN, self).__init__()\n",
        "    self.hidden_size = hidden_size\n",
        "    self.output_size = output_size\n",
        "    self.dropout_p = dropout_p\n",
        "    self.max_length = max_length\n",
        "\n",
        "    self.embedding = nn.Embedding(self.output_size, self.hidden_size)\n",
        "    self.attn = nn.Linear(self.hidden_size * 2, self.max_length) # 왜 여기서 hidden_size 2배, max_length 만큼 만들까?\n",
        "    self.attn_combine = nn.Linear(self.hidden_size * 2, self.hidden_size)\n",
        "    self.dropout = nn.Dropout(self.dropout_p)\n",
        "    self.gru = nn.GRU(self.hidden_size, self.hidden_size)\n",
        "    self.out = nn.Linear(self.hidden_size, self.output_size)\n",
        "\n",
        "  def forward(self, input, hidden, encoder_outputs):\n",
        "    embedded = self.embedding(input).view(1, 1, -1) \n",
        "    embedded = self.dropout(embedded)\n",
        "\n",
        "    attn_weights = F.softmax( \n",
        "        self.attn(\n",
        "            torch.cat((embedded[0], hidden[0]), 1)) # 임베딩과 히든 레이어를 concat 해준뒤\n",
        "        , dim = 1) # 그 다음 attn 의 소프트맥스를 취한 결과물을 attn_weight 에 담아둔다\n",
        "    attn_applied = torch.bmm(attn_weights.unsqueeze(0), \n",
        "                             # torch.bmm batch matrix multiplication 을 수행하는 함수 \n",
        "                             # 2개 이상의 차원을 지닌 텐서가 주어졌을 떄 뒤의 2개 차원에 대해 행렬 곱을 수행하고, 앞의 다른 차원은 미니배치로 취급\n",
        "                             # (batch_size, n, k) x (batch_size, k, m) = (batch_size, n, m)\n",
        "                             encoder_outputs.unsqueeze(0))\n",
        "    \n",
        "    output = torch.cat((embedded[0], attn_applied[0]), 1) # 아까 만들어둔 embedded 와 attn_applied 를 합쳐본다\n",
        "    output = self.attn_combine(output).unsqueeze(0) # attn_combine 한다\n",
        "\n",
        "    output = F.relu(output)\n",
        "    output, hidden = self.gru(output, hidden)\n",
        "    \n",
        "    output = F.log_softmax(self.out(output[0]), dim=1)\n",
        "    return output, hidden, attn_weights\n",
        "  \n",
        "  def initHidden(self):\n",
        "    return torch.zeros(1, 1, self.hidden_size, device= device)"
      ],
      "execution_count": 82,
      "outputs": []
    },
    {
      "cell_type": "markdown",
      "metadata": {
        "id": "Qn1UsHI8sAjM",
        "colab_type": "text"
      },
      "source": [
        "## 학습\n",
        "- 학습을 위해 각 쌍마다 input Tensor 와 target Tensor 필요\n",
        "- 두 시퀀스에 EOS 토큰 추가"
      ]
    },
    {
      "cell_type": "code",
      "metadata": {
        "id": "oFfioja7sAat",
        "colab_type": "code",
        "colab": {}
      },
      "source": [
        "def indexesFromSentence(lang, sentence):\n",
        "  return [lang.word2index[word] for word in sentence.split(' ')] # 문장을 인덱스로 변환\n",
        "\n",
        "def tensorFromSentence(lang, sentence):\n",
        "  indexes = indexesFromSentence(lang, sentence)\n",
        "  indexes.append(EOS_token) # EOS 토큰 추가\n",
        "  return torch.tensor(indexes, dtype = torch.long, device = device).view(-1, 1) # 텐서로 변환하고 .view(-1, 1) 사용해서 열로 변환 \n",
        "\n",
        "def tensorsFromPair(pair):\n",
        "  input_tensor = tensorFromSentence(input_lang, pair[0])\n",
        "  target_tensor = tensorFromSentence(output_lang, pair[1])\n",
        "  return (input_tensor, target_tensor)"
      ],
      "execution_count": 83,
      "outputs": []
    },
    {
      "cell_type": "markdown",
      "metadata": {
        "id": "Ym4pKYd7tkJ2",
        "colab_type": "text"
      },
      "source": [
        "## 모델 학습 \n",
        "- 인코더에 입력 문장을 넣음 -> 모든 output 과 최신 hidden 레이어를 받음\n",
        "- 디코더에 <SOS> 토큰과 최신 hidden 상태를 넣음\n",
        "\n",
        "- \"Teach forcing\" 은 다음 입력으로 디코더의 예측을 사용하는 대신, 실제 목표 출력을 다음 입력으로 사용하는 컨셉 \n",
        "  - 빠른 수렴이 가능하나, 학습된 네트워크가 잘못 사용될 떄 불안정함\n",
        "  - 해당 네트워크는 일관된 문법으로 읽지만 정확한 번역과는 거리가 멀다\n",
        "- autograd 덕분에 if 문으로 teacher forcing 사용 여부 선택도 가능하며, 비율도 조절 가능하다 \n",
        "  - teacher_forcing_ratio \n"
      ]
    },
    {
      "cell_type": "code",
      "metadata": {
        "id": "rjpvZsg9-bxk",
        "colab_type": "code",
        "colab": {}
      },
      "source": [
        "teacher_forcing_ratio = 0.5\n",
        "\n",
        "def train(input_tensor, target_tensor, encoder, decoder, encoder_optimizer, decoder_optimizer, criterion, max_length = MAX_LENGTH):\n",
        "  encoder_hidden = encoder.initHidden()\n",
        "\n",
        "  encoder_optimizer.zero_grad()\n",
        "  decoder_optimizer.zero_grad()\n",
        "\n",
        "  input_length = input_tensor.size(0)\n",
        "  target_length = target_tensor.size(0)\n",
        "\n",
        "  encoder_outputs = torch.zeros(max_length, encoder.hidden_size, device = device)\n",
        "\n",
        "  loss = 0\n",
        "\n",
        "  for ei in range(input_length):\n",
        "    encoder_output, encoder_hidden = encoder(\n",
        "        input_tensor[ei] , encoder_hidden)\n",
        "    encoder_outputs[ei] = encoder_output[0, 0]\n",
        "\n",
        "  decoder_input = torch.tensor([[SOS_token]], device = device)\n",
        "  decoder_hidden = encoder_hidden\n",
        "  use_teacher_forcing = True if random.random() < teacher_forcing_ratio else False\n",
        "\n",
        "  if use_teacher_forcing :\n",
        "    # teacher_forcing 포함할 경우 : 목표를 다음 입력으로 전달\n",
        "    for di in range(target_length):\n",
        "      decoder_output, decoder_hidden, decoder_attention = decoder(\n",
        "          decoder_input, decoder_hidden, encoder_outputs)\n",
        "      loss += criterion(decoder_output, target_tensor[di])\n",
        "      decoder_input = target_tensor[di]\n",
        "\n",
        "  else :\n",
        "    # teacher forcing 미포함 : 자신의 예측을 다음 입력으로 사용\n",
        "    for di in range(target_length):\n",
        "      decoder_output, decoder_hidden, decoder_attention = decoder(\n",
        "          decoder_input, decoder_hidden, encoder_outputs)\n",
        "      topv, topi = decoder_output.topk(1)\n",
        "      decoder_input = topi.squeeze().detach() # 입력으로 사용할 부분을 히스토리에서 분리\n",
        "\n",
        "      loss += criterion(decoder_output, target_tensor[di])\n",
        "      if decoder_input.item() == EOS_token:\n",
        "        break\n",
        "    \n",
        "  loss.backward()\n",
        "\n",
        "  encoder_optimizer.step()\n",
        "  decoder_optimizer.step()\n",
        "\n",
        "  return loss.item() / target_length\n"
      ],
      "execution_count": 84,
      "outputs": []
    },
    {
      "cell_type": "code",
      "metadata": {
        "id": "fRLbypxSspDa",
        "colab_type": "code",
        "colab": {}
      },
      "source": [
        "import  time\n",
        "import math\n",
        "\n",
        "def asMinutes(s):\n",
        "  m = math.floor(s / 60)\n",
        "  s -= m*60\n",
        "  return '%dm %ds' % (m, s)\n",
        "\n",
        "def timeSince(since, percent):\n",
        "  now = time.time()\n",
        "  s = now - since\n",
        "  es = s / (percent)\n",
        "  rs = es - s\n",
        "  return '%s (- %s)' % (asMinutes(s), asMinutes(rs))"
      ],
      "execution_count": 85,
      "outputs": []
    },
    {
      "cell_type": "markdown",
      "metadata": {
        "id": "VQzT6Ux-wADy",
        "colab_type": "text"
      },
      "source": [
        "남은 전체 학습 과정\n",
        "- 타이머 시작\n",
        "- optimizers 와 criterion 초기화\n",
        "- 학습 쌍의 세트 생성\n",
        "- 도식화를 위한 빈 손실 배열 시작 --> ??\n",
        "\n",
        "### train 을 여러번 호출하여, 떄로는 진행률( 예제의 %, 현재까지의 예상 시간) 과 평균 손실을 출력"
      ]
    },
    {
      "cell_type": "code",
      "metadata": {
        "id": "Pn-H6UdCsq0M",
        "colab_type": "code",
        "colab": {}
      },
      "source": [
        "def trainIters(encoder, decoder, n_iters, print_every = 1000, plot_every =100, learning_rate = 0.01):\n",
        "  start = time.time()\n",
        "  plot_losses = []\n",
        "  print_loss_total  = 0 #print_every 마다 초기화 ## 왜 그때마다 초기화를 하려고 할ㄲ?\n",
        "  plot_loss_total = 0 # plot_every 마다 초기화\n",
        "\n",
        "  encoder_optimizer = optim.SGD(encoder.parameters(), lr = learning_rate)\n",
        "  decoder_optimizer = optim.SGD(decoder.parameters(), lr = learning_rate)\n",
        "  training_pairs = [tensorsFromPair(random.choice(pairs)) for i in range(n_iters)]\n",
        "  criterion = nn.NLLLoss()\n",
        "\n",
        "  for iter in range(1, n_iters +1):\n",
        "    training_pair = training_pairs[iter - 1]\n",
        "    input_tensor = training_pair[0]\n",
        "    target_tensor = training_pair[1]\n",
        "\n",
        "    loss = train(input_tensor, target_tensor, encoder, decoder, encoder_optimizer, decoder_optimizer, criterion)\n",
        "    print_loss_total += loss\n",
        "    plot_loss_total += loss\n",
        "    \n",
        "    if iter % print_every == 0:\n",
        "      print_loss_avg = print_loss_total / print_every\n",
        "      print_loss_total = 0\n",
        "      print(\"%s (%d %d%% %.4f\" % (timeSince(start, iter / n_iters), iter, iter / n_iters * 100, print_loss_avg))\n",
        "\n",
        "    if iter % plot_every == 0:\n",
        "      plot_loss_avg = plot_loss_total / plot_every\n",
        "      plot_losses.append(plot_loss_avg)\n",
        "      plot_loss_Total = 0\n",
        "  \n",
        "  showPlot(plot_losses)"
      ],
      "execution_count": 86,
      "outputs": []
    },
    {
      "cell_type": "markdown",
      "metadata": {
        "id": "-dedMw2BxqVQ",
        "colab_type": "text"
      },
      "source": [
        "## 결과 도식화\n",
        "- matplotlib 로 학습 중에 저장된 손실 값plot_losses 의 배열을 사용하여 도식화"
      ]
    },
    {
      "cell_type": "code",
      "metadata": {
        "id": "DL-R2V8qxpLi",
        "colab_type": "code",
        "colab": {}
      },
      "source": [
        "import matplotlib.pyplot as plt\n",
        "plt.switch_backend('agg')\n",
        "import matplotlib.ticker as ticker\n",
        "import numpy as np\n",
        "\n",
        "def showPlot(points):\n",
        "  plt.figure()\n",
        "  fig, ax = plt.subplots()\n",
        "\n",
        "  # 주기적인 간격에 이 locator 가 tick 을 설정\n",
        "  loc = ticker.MultipleLocator(base = 0.2)\n",
        "  ax.yaxis.set_major_locator(loc)\n",
        "  plt.plot(polints)"
      ],
      "execution_count": 87,
      "outputs": []
    },
    {
      "cell_type": "markdown",
      "metadata": {
        "id": "BvQm6hMiyHE8",
        "colab_type": "text"
      },
      "source": [
        "## 평가\n",
        "- target 없이 진행:  각 단계의 디코더의 예측을 되돌려 전달함\n",
        "- 단어를 예측할때마다 그 단어를 문자열에 추가\n",
        "- EOS 토큰을 예측할 시, 거기서 그 단어를 멈춤\n",
        "- 이후 도식화를 위해 디코더의 attention 출력을 저장"
      ]
    },
    {
      "cell_type": "code",
      "metadata": {
        "id": "dc8MlV8DyFHH",
        "colab_type": "code",
        "colab": {}
      },
      "source": [
        "def evaluate(encoder, decoder, sentence, max_length = MAX_LENGTH):\n",
        "  with torch.no_grad():\n",
        "    input_tensor = tensorFromSentence(input_lang, sentence)\n",
        "    input_length = input_tensor.size()[0]\n",
        "    encoder_hidden = encoder.initHidden()\n",
        "\n",
        "    encoder_outputs = torch.zeros(max_length, encoder.hidden_size, device = device)\n",
        "\n",
        "    for ei in range(input_length):\n",
        "      encoder_output, encoder_hidden = encoder(input_tensor[ei], encoder_hidden)\n",
        "      encoder_outputs[ei] += encoder_output[0, 0]\n",
        "\n",
        "    decoder_input = torch.tensor([[SOS_token]], device = device) #SOS\n",
        "    decoder_hidden = encoder_hidden\n",
        "    decoded_words = []\n",
        "    decoder_attentions = torch.zeros(max_length, max_length)\n",
        "    \n",
        "    for di in range(max_length):\n",
        "      decoder_output, decoder_hidden, decoder_attention = decoder(decoder_input, decoder_hidden, encoder_outputs)\n",
        "      decoder_attentions[di] = decoder_attention.data\n",
        "      topv, topi = decoder_output.data.topk(1)\n",
        "      if topi.item() == EOS_token:\n",
        "        decoded_words.append('<EOS>')\n",
        "        break\n",
        "      else:\n",
        "        decoded_words.append(output_lang.index2word[topi.item()])\n",
        "\n",
        "      decoder_input = topi.squeeze().detach()\n",
        "\n",
        "  return deocded_words, decoder_attentions[:di + 1]"
      ],
      "execution_count": 88,
      "outputs": []
    },
    {
      "cell_type": "code",
      "metadata": {
        "id": "njF_HL2_ykGJ",
        "colab_type": "code",
        "colab": {}
      },
      "source": [
        "# 임의로 품질 판단도 가능함\n",
        "def evaluateRandomly(encoder, deocder, n = 10):\n",
        "  for i in range(n):\n",
        "    pair = random.choice(pairs)\n",
        "    print('>', pair[0])\n",
        "    print('=', pair[1])\n",
        "    output_words, attentions = evaluate(encoder, decoder, pair[0])\n",
        "    output_sentence = ' '.join(output_words)\n",
        "    print('<', output_sentence)\n",
        "    print(' ')"
      ],
      "execution_count": 89,
      "outputs": []
    },
    {
      "cell_type": "code",
      "metadata": {
        "id": "eiGMCSQW17ZP",
        "colab_type": "code",
        "colab": {
          "base_uri": "https://localhost:8080/",
          "height": 569
        },
        "outputId": "1d5e4e7c-fcee-44d3-da2b-36ef40db63a0"
      },
      "source": [
        "hidden_size = 265\n",
        "encoder1 = EncoderRNN(input_lang.n_words, hidden_size).to(device)\n",
        "attn_decoder1 = AttnDecoderRNN(hidden_size, output_lang.n_words, dropout_p = 0.1).to(device)\n",
        "\n",
        "trainIters(encoder1, attn_decoder1, 75000, print_every = 5000)"
      ],
      "execution_count": 90,
      "outputs": [
        {
          "output_type": "stream",
          "text": [
            "5m 38s (- 78m 54s) (5000 6% 2.8426\n",
            "11m 25s (- 74m 17s) (10000 13% 2.2609\n",
            "17m 19s (- 69m 18s) (15000 20% 1.9869\n",
            "23m 7s (- 63m 35s) (20000 26% 1.6891\n",
            "29m 5s (- 58m 10s) (25000 33% 1.5333\n",
            "35m 14s (- 52m 51s) (30000 40% 1.3596\n",
            "41m 24s (- 47m 19s) (35000 46% 1.2405\n",
            "47m 31s (- 41m 35s) (40000 53% 1.1020\n",
            "53m 32s (- 35m 41s) (45000 60% 0.9803\n",
            "59m 31s (- 29m 45s) (50000 66% 0.8861\n",
            "65m 48s (- 23m 55s) (55000 73% 0.8077\n",
            "72m 3s (- 18m 0s) (60000 80% 0.7542\n",
            "78m 10s (- 12m 1s) (65000 86% 0.6678\n",
            "84m 15s (- 6m 1s) (70000 93% 0.6068\n",
            "90m 19s (- 0m 0s) (75000 100% 0.5464\n"
          ],
          "name": "stdout"
        },
        {
          "output_type": "error",
          "ename": "NameError",
          "evalue": "ignored",
          "traceback": [
            "\u001b[0;31m---------------------------------------------------------------------------\u001b[0m",
            "\u001b[0;31mNameError\u001b[0m                                 Traceback (most recent call last)",
            "\u001b[0;32m<ipython-input-90-c1bb0dd90cfa>\u001b[0m in \u001b[0;36m<module>\u001b[0;34m()\u001b[0m\n\u001b[1;32m      3\u001b[0m \u001b[0mattn_decoder1\u001b[0m \u001b[0;34m=\u001b[0m \u001b[0mAttnDecoderRNN\u001b[0m\u001b[0;34m(\u001b[0m\u001b[0mhidden_size\u001b[0m\u001b[0;34m,\u001b[0m \u001b[0moutput_lang\u001b[0m\u001b[0;34m.\u001b[0m\u001b[0mn_words\u001b[0m\u001b[0;34m,\u001b[0m \u001b[0mdropout_p\u001b[0m \u001b[0;34m=\u001b[0m \u001b[0;36m0.1\u001b[0m\u001b[0;34m)\u001b[0m\u001b[0;34m.\u001b[0m\u001b[0mto\u001b[0m\u001b[0;34m(\u001b[0m\u001b[0mdevice\u001b[0m\u001b[0;34m)\u001b[0m\u001b[0;34m\u001b[0m\u001b[0;34m\u001b[0m\u001b[0m\n\u001b[1;32m      4\u001b[0m \u001b[0;34m\u001b[0m\u001b[0m\n\u001b[0;32m----> 5\u001b[0;31m \u001b[0mtrainIters\u001b[0m\u001b[0;34m(\u001b[0m\u001b[0mencoder1\u001b[0m\u001b[0;34m,\u001b[0m \u001b[0mattn_decoder1\u001b[0m\u001b[0;34m,\u001b[0m \u001b[0;36m75000\u001b[0m\u001b[0;34m,\u001b[0m \u001b[0mprint_every\u001b[0m \u001b[0;34m=\u001b[0m \u001b[0;36m5000\u001b[0m\u001b[0;34m)\u001b[0m\u001b[0;34m\u001b[0m\u001b[0;34m\u001b[0m\u001b[0m\n\u001b[0m",
            "\u001b[0;32m<ipython-input-86-1509e36724b1>\u001b[0m in \u001b[0;36mtrainIters\u001b[0;34m(encoder, decoder, n_iters, print_every, plot_every, learning_rate)\u001b[0m\n\u001b[1;32m     29\u001b[0m       \u001b[0mplot_loss_Total\u001b[0m \u001b[0;34m=\u001b[0m \u001b[0;36m0\u001b[0m\u001b[0;34m\u001b[0m\u001b[0;34m\u001b[0m\u001b[0m\n\u001b[1;32m     30\u001b[0m \u001b[0;34m\u001b[0m\u001b[0m\n\u001b[0;32m---> 31\u001b[0;31m   \u001b[0mshowPlot\u001b[0m\u001b[0;34m(\u001b[0m\u001b[0mplot_losses\u001b[0m\u001b[0;34m)\u001b[0m\u001b[0;34m\u001b[0m\u001b[0;34m\u001b[0m\u001b[0m\n\u001b[0m",
            "\u001b[0;32m<ipython-input-87-70d226f7a9f6>\u001b[0m in \u001b[0;36mshowPlot\u001b[0;34m(points)\u001b[0m\n\u001b[1;32m     11\u001b[0m   \u001b[0mloc\u001b[0m \u001b[0;34m=\u001b[0m \u001b[0mticker\u001b[0m\u001b[0;34m.\u001b[0m\u001b[0mMultipleLocator\u001b[0m\u001b[0;34m(\u001b[0m\u001b[0mbase\u001b[0m \u001b[0;34m=\u001b[0m \u001b[0;36m0.2\u001b[0m\u001b[0;34m)\u001b[0m\u001b[0;34m\u001b[0m\u001b[0;34m\u001b[0m\u001b[0m\n\u001b[1;32m     12\u001b[0m   \u001b[0max\u001b[0m\u001b[0;34m.\u001b[0m\u001b[0myaxis\u001b[0m\u001b[0;34m.\u001b[0m\u001b[0mset_major_locator\u001b[0m\u001b[0;34m(\u001b[0m\u001b[0mloc\u001b[0m\u001b[0;34m)\u001b[0m\u001b[0;34m\u001b[0m\u001b[0;34m\u001b[0m\u001b[0m\n\u001b[0;32m---> 13\u001b[0;31m   \u001b[0mplt\u001b[0m\u001b[0;34m.\u001b[0m\u001b[0mplot\u001b[0m\u001b[0;34m(\u001b[0m\u001b[0mpolints\u001b[0m\u001b[0;34m)\u001b[0m\u001b[0;34m\u001b[0m\u001b[0;34m\u001b[0m\u001b[0m\n\u001b[0m",
            "\u001b[0;31mNameError\u001b[0m: name 'polints' is not defined"
          ]
        }
      ]
    },
    {
      "cell_type": "code",
      "metadata": {
        "id": "jJtNAT9y2j-d",
        "colab_type": "code",
        "colab": {
          "base_uri": "https://localhost:8080/",
          "height": 321
        },
        "outputId": "d3c14cb4-3247-48ff-809c-d3a321f05c78"
      },
      "source": [
        "evaluateRandomly(encoder1, attn_decoder1)"
      ],
      "execution_count": 91,
      "outputs": [
        {
          "output_type": "stream",
          "text": [
            "> il est capitaine de l equipe .\n",
            "= he is the captain of the team .\n"
          ],
          "name": "stdout"
        },
        {
          "output_type": "error",
          "ename": "NameError",
          "evalue": "ignored",
          "traceback": [
            "\u001b[0;31m---------------------------------------------------------------------------\u001b[0m",
            "\u001b[0;31mNameError\u001b[0m                                 Traceback (most recent call last)",
            "\u001b[0;32m<ipython-input-91-752866089bea>\u001b[0m in \u001b[0;36m<module>\u001b[0;34m()\u001b[0m\n\u001b[0;32m----> 1\u001b[0;31m \u001b[0mevaluateRandomly\u001b[0m\u001b[0;34m(\u001b[0m\u001b[0mencoder1\u001b[0m\u001b[0;34m,\u001b[0m \u001b[0mattn_decoder1\u001b[0m\u001b[0;34m)\u001b[0m\u001b[0;34m\u001b[0m\u001b[0;34m\u001b[0m\u001b[0m\n\u001b[0m",
            "\u001b[0;32m<ipython-input-89-4d2089c6a8a7>\u001b[0m in \u001b[0;36mevaluateRandomly\u001b[0;34m(encoder, deocder, n)\u001b[0m\n\u001b[1;32m      5\u001b[0m     \u001b[0mprint\u001b[0m\u001b[0;34m(\u001b[0m\u001b[0;34m'>'\u001b[0m\u001b[0;34m,\u001b[0m \u001b[0mpair\u001b[0m\u001b[0;34m[\u001b[0m\u001b[0;36m0\u001b[0m\u001b[0;34m]\u001b[0m\u001b[0;34m)\u001b[0m\u001b[0;34m\u001b[0m\u001b[0;34m\u001b[0m\u001b[0m\n\u001b[1;32m      6\u001b[0m     \u001b[0mprint\u001b[0m\u001b[0;34m(\u001b[0m\u001b[0;34m'='\u001b[0m\u001b[0;34m,\u001b[0m \u001b[0mpair\u001b[0m\u001b[0;34m[\u001b[0m\u001b[0;36m1\u001b[0m\u001b[0;34m]\u001b[0m\u001b[0;34m)\u001b[0m\u001b[0;34m\u001b[0m\u001b[0;34m\u001b[0m\u001b[0m\n\u001b[0;32m----> 7\u001b[0;31m     \u001b[0moutput_words\u001b[0m\u001b[0;34m,\u001b[0m \u001b[0mattentions\u001b[0m \u001b[0;34m=\u001b[0m \u001b[0mevaluate\u001b[0m\u001b[0;34m(\u001b[0m\u001b[0mencoder\u001b[0m\u001b[0;34m,\u001b[0m \u001b[0mdecoder\u001b[0m\u001b[0;34m,\u001b[0m \u001b[0mpair\u001b[0m\u001b[0;34m[\u001b[0m\u001b[0;36m0\u001b[0m\u001b[0;34m]\u001b[0m\u001b[0;34m)\u001b[0m\u001b[0;34m\u001b[0m\u001b[0;34m\u001b[0m\u001b[0m\n\u001b[0m\u001b[1;32m      8\u001b[0m     \u001b[0moutput_sentence\u001b[0m \u001b[0;34m=\u001b[0m \u001b[0;34m' '\u001b[0m\u001b[0;34m.\u001b[0m\u001b[0mjoin\u001b[0m\u001b[0;34m(\u001b[0m\u001b[0moutput_words\u001b[0m\u001b[0;34m)\u001b[0m\u001b[0;34m\u001b[0m\u001b[0;34m\u001b[0m\u001b[0m\n\u001b[1;32m      9\u001b[0m     \u001b[0mprint\u001b[0m\u001b[0;34m(\u001b[0m\u001b[0;34m'<'\u001b[0m\u001b[0;34m,\u001b[0m \u001b[0moutput_sentence\u001b[0m\u001b[0;34m)\u001b[0m\u001b[0;34m\u001b[0m\u001b[0;34m\u001b[0m\u001b[0m\n",
            "\u001b[0;31mNameError\u001b[0m: name 'decoder' is not defined"
          ]
        }
      ]
    },
    {
      "cell_type": "markdown",
      "metadata": {
        "id": "7yR4ijLzAC1L",
        "colab_type": "text"
      },
      "source": [
        "## attention 시각화\n",
        "- attention 메커니즘은 해석 가능성이 높은 output 을가지고 있음\n",
        "- input sequence 의 특정 encoder output 에 가중치를 부여하는데 사용되어, 각 시점에 네트워크가 가장 집중되는 위치를 파악 가능\n",
        "- attention output 을 matrix 로 표시하기 위해 plt.matshow(attentions) 실행 가능"
      ]
    },
    {
      "cell_type": "code",
      "metadata": {
        "id": "IZJmwsYTACGc",
        "colab_type": "code",
        "colab": {
          "base_uri": "https://localhost:8080/",
          "height": 269
        },
        "outputId": "755a94f5-7ac9-46bd-ea0b-4b2c09c11aca"
      },
      "source": [
        "output_words, attentions = evaluate( encoder1, attn_decoder1, 'je suis trop froid .')\n",
        "plt.matshow(attentions.numpy())\n",
        "# 열은 입력, 행은 출력단계"
      ],
      "execution_count": 92,
      "outputs": [
        {
          "output_type": "error",
          "ename": "NameError",
          "evalue": "ignored",
          "traceback": [
            "\u001b[0;31m---------------------------------------------------------------------------\u001b[0m",
            "\u001b[0;31mNameError\u001b[0m                                 Traceback (most recent call last)",
            "\u001b[0;32m<ipython-input-92-3c8b923c967b>\u001b[0m in \u001b[0;36m<module>\u001b[0;34m()\u001b[0m\n\u001b[0;32m----> 1\u001b[0;31m \u001b[0moutput_words\u001b[0m\u001b[0;34m,\u001b[0m \u001b[0mattentions\u001b[0m \u001b[0;34m=\u001b[0m \u001b[0mevaluate\u001b[0m\u001b[0;34m(\u001b[0m \u001b[0mencoder1\u001b[0m\u001b[0;34m,\u001b[0m \u001b[0mattn_decoder1\u001b[0m\u001b[0;34m,\u001b[0m \u001b[0;34m'je suis trop froid .'\u001b[0m\u001b[0;34m)\u001b[0m\u001b[0;34m\u001b[0m\u001b[0;34m\u001b[0m\u001b[0m\n\u001b[0m\u001b[1;32m      2\u001b[0m \u001b[0mplt\u001b[0m\u001b[0;34m.\u001b[0m\u001b[0mmatshow\u001b[0m\u001b[0;34m(\u001b[0m\u001b[0mattentions\u001b[0m\u001b[0;34m.\u001b[0m\u001b[0mnumpy\u001b[0m\u001b[0;34m(\u001b[0m\u001b[0;34m)\u001b[0m\u001b[0;34m)\u001b[0m\u001b[0;34m\u001b[0m\u001b[0;34m\u001b[0m\u001b[0m\n",
            "\u001b[0;32m<ipython-input-88-64ac6bb5a22e>\u001b[0m in \u001b[0;36mevaluate\u001b[0;34m(encoder, decoder, sentence, max_length)\u001b[0m\n\u001b[1;32m     28\u001b[0m       \u001b[0mdecoder_input\u001b[0m \u001b[0;34m=\u001b[0m \u001b[0mtopi\u001b[0m\u001b[0;34m.\u001b[0m\u001b[0msqueeze\u001b[0m\u001b[0;34m(\u001b[0m\u001b[0;34m)\u001b[0m\u001b[0;34m.\u001b[0m\u001b[0mdetach\u001b[0m\u001b[0;34m(\u001b[0m\u001b[0;34m)\u001b[0m\u001b[0;34m\u001b[0m\u001b[0;34m\u001b[0m\u001b[0m\n\u001b[1;32m     29\u001b[0m \u001b[0;34m\u001b[0m\u001b[0m\n\u001b[0;32m---> 30\u001b[0;31m   \u001b[0;32mreturn\u001b[0m \u001b[0mdeocded_words\u001b[0m\u001b[0;34m,\u001b[0m \u001b[0mdecoder_attentions\u001b[0m\u001b[0;34m[\u001b[0m\u001b[0;34m:\u001b[0m\u001b[0mdi\u001b[0m \u001b[0;34m+\u001b[0m \u001b[0;36m1\u001b[0m\u001b[0;34m]\u001b[0m\u001b[0;34m\u001b[0m\u001b[0;34m\u001b[0m\u001b[0m\n\u001b[0m",
            "\u001b[0;31mNameError\u001b[0m: name 'deocded_words' is not defined"
          ]
        }
      ]
    },
    {
      "cell_type": "code",
      "metadata": {
        "id": "E1bluof6Aaik",
        "colab_type": "code",
        "colab": {}
      },
      "source": [
        "def showAttention(input_sentence, output_words, attentions):\n",
        "  # colorbar 로 그림설정\n",
        "  fig = plt.figure()\n",
        "  ax = fig.add_subplot(111)\n",
        "  cax = ax.mat\n",
        "\n",
        "  "
      ],
      "execution_count": null,
      "outputs": []
    }
  ]
}
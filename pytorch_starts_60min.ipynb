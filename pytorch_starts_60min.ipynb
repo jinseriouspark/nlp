{
  "nbformat": 4,
  "nbformat_minor": 0,
  "metadata": {
    "colab": {
      "name": "pytorch_starts_60min",
      "provenance": []
    },
    "kernelspec": {
      "name": "python3",
      "display_name": "Python 3"
    }
  },
  "cells": [
    {
      "cell_type": "markdown",
      "metadata": {
        "id": "MNyJ1ZX0wb2q",
        "colab_type": "text"
      },
      "source": [
        " 출처 : https://tutorials.pytorch.kr/beginner/blitz/tensor_tutorial.html#sphx-glr-beginner-blitz-tensor-tutorial-py"
      ]
    },
    {
      "cell_type": "code",
      "metadata": {
        "id": "tsoHqcVdwWLe",
        "colab_type": "code",
        "colab": {}
      },
      "source": [
        "from __future__ import print_function\n",
        "import torch"
      ],
      "execution_count": 1,
      "outputs": []
    },
    {
      "cell_type": "code",
      "metadata": {
        "id": "9W3Qu8XRwk_T",
        "colab_type": "code",
        "colab": {
          "base_uri": "https://localhost:8080/",
          "height": 104
        },
        "outputId": "8f468be4-3750-4b51-e972-045823b0af15"
      },
      "source": [
        "x = torch.empty(5,3) # 초기화 되지 않은 5 x 3 형태를 만들기, 할당된 메모리에 존재하는 값들이 나타남\n",
        "print(x)"
      ],
      "execution_count": 3,
      "outputs": [
        {
          "output_type": "stream",
          "text": [
            "tensor([[1.3517e-35, 0.0000e+00, 3.3631e-44],\n",
            "        [0.0000e+00,        nan, 0.0000e+00],\n",
            "        [4.4721e+21, 1.5956e+25, 4.7399e+16],\n",
            "        [3.7293e-08, 3.9664e+28, 6.9397e+22],\n",
            "        [1.7260e+25, 2.2856e+20, 5.0948e-14]])\n"
          ],
          "name": "stdout"
        }
      ]
    },
    {
      "cell_type": "code",
      "metadata": {
        "id": "oZhKFN2XwnGD",
        "colab_type": "code",
        "colab": {
          "base_uri": "https://localhost:8080/",
          "height": 104
        },
        "outputId": "a0e6456a-2e89-4f9e-e618-eb5f3069e925"
      },
      "source": [
        "x = torch.rand(5,3) # 초기화 되어 랜덤 값 5 x 3 형태의 tensor 만들어줌\n",
        "print(x)"
      ],
      "execution_count": 4,
      "outputs": [
        {
          "output_type": "stream",
          "text": [
            "tensor([[0.7048, 0.3276, 0.9853],\n",
            "        [0.9783, 0.6705, 0.3701],\n",
            "        [0.9617, 0.4039, 0.1340],\n",
            "        [0.4263, 0.2244, 0.7150],\n",
            "        [0.5999, 0.7073, 0.3677]])\n"
          ],
          "name": "stdout"
        }
      ]
    },
    {
      "cell_type": "code",
      "metadata": {
        "id": "cSof8BF7wsrL",
        "colab_type": "code",
        "colab": {
          "base_uri": "https://localhost:8080/",
          "height": 104
        },
        "outputId": "9a60ef21-67e1-40af-9d27-d9d869d23da9"
      },
      "source": [
        "x = torch.zeros(5,3,dtype = torch.long) # torch.long 은 float , long 이 없으면 int 값을\n",
        "print(x)"
      ],
      "execution_count": 5,
      "outputs": [
        {
          "output_type": "stream",
          "text": [
            "tensor([[0, 0, 0],\n",
            "        [0, 0, 0],\n",
            "        [0, 0, 0],\n",
            "        [0, 0, 0],\n",
            "        [0, 0, 0]])\n"
          ],
          "name": "stdout"
        }
      ]
    },
    {
      "cell_type": "code",
      "metadata": {
        "id": "vJNI11q3xDeV",
        "colab_type": "code",
        "colab": {
          "base_uri": "https://localhost:8080/",
          "height": 35
        },
        "outputId": "156ec0b6-136e-424b-d5cb-e35f6a0a6ae9"
      },
      "source": [
        "x = torch.tensor([5.5, 3])\n",
        "print(x)"
      ],
      "execution_count": 6,
      "outputs": [
        {
          "output_type": "stream",
          "text": [
            "tensor([5.5000, 3.0000])\n"
          ],
          "name": "stdout"
        }
      ]
    },
    {
      "cell_type": "code",
      "metadata": {
        "id": "ipSbucQdxHNb",
        "colab_type": "code",
        "colab": {
          "base_uri": "https://localhost:8080/",
          "height": 191
        },
        "outputId": "6c748b7f-e8a9-4fb6-a97d-4a213a37c03e"
      },
      "source": [
        "x = x.new_ones(5, 3, dtype = torch.double) \n",
        "print(x)\n",
        "\n",
        "x = torch.rand_like(x, dtype = torch.float) # 결과는 동일한 크기이나 dtype 이 바뀜\n",
        "print(x)"
      ],
      "execution_count": 8,
      "outputs": [
        {
          "output_type": "stream",
          "text": [
            "tensor([[1., 1., 1.],\n",
            "        [1., 1., 1.],\n",
            "        [1., 1., 1.],\n",
            "        [1., 1., 1.],\n",
            "        [1., 1., 1.]], dtype=torch.float64)\n",
            "tensor([[0.9203, 0.7810, 0.7339],\n",
            "        [0.8864, 0.9373, 0.1744],\n",
            "        [0.7761, 0.8656, 0.5302],\n",
            "        [0.2183, 0.3864, 0.7933],\n",
            "        [0.7252, 0.5913, 0.6310]])\n"
          ],
          "name": "stdout"
        }
      ]
    },
    {
      "cell_type": "code",
      "metadata": {
        "id": "diVk0bdYxSNF",
        "colab_type": "code",
        "colab": {
          "base_uri": "https://localhost:8080/",
          "height": 35
        },
        "outputId": "a54cbfd4-72cf-4863-92b2-0e71372a2c21"
      },
      "source": [
        "print(x.size()) # 튜플 타입"
      ],
      "execution_count": 10,
      "outputs": [
        {
          "output_type": "stream",
          "text": [
            "torch.Size([5, 3])\n"
          ],
          "name": "stdout"
        }
      ]
    },
    {
      "cell_type": "markdown",
      "metadata": {
        "id": "JDA28_5bxZ89",
        "colab_type": "text"
      },
      "source": [
        "## 연산 operations"
      ]
    },
    {
      "cell_type": "code",
      "metadata": {
        "id": "-VjcbmngxWl6",
        "colab_type": "code",
        "colab": {
          "base_uri": "https://localhost:8080/",
          "height": 104
        },
        "outputId": "46a82eed-14fc-4bb7-9476-27709bb7d60c"
      },
      "source": [
        "y = torch.rand(5,3)\n",
        "print(x + y)"
      ],
      "execution_count": 11,
      "outputs": [
        {
          "output_type": "stream",
          "text": [
            "tensor([[1.1647, 1.5561, 1.1011],\n",
            "        [1.2429, 1.6265, 0.3457],\n",
            "        [1.4130, 0.9352, 0.7865],\n",
            "        [0.8533, 0.6929, 0.9228],\n",
            "        [1.0372, 0.8900, 1.2666]])\n"
          ],
          "name": "stdout"
        }
      ]
    },
    {
      "cell_type": "code",
      "metadata": {
        "id": "mgAqUcUsxewT",
        "colab_type": "code",
        "colab": {
          "base_uri": "https://localhost:8080/",
          "height": 104
        },
        "outputId": "790ffc66-cec0-4102-d69c-93078675a43d"
      },
      "source": [
        "print(torch.add(x, y))"
      ],
      "execution_count": 12,
      "outputs": [
        {
          "output_type": "stream",
          "text": [
            "tensor([[1.1647, 1.5561, 1.1011],\n",
            "        [1.2429, 1.6265, 0.3457],\n",
            "        [1.4130, 0.9352, 0.7865],\n",
            "        [0.8533, 0.6929, 0.9228],\n",
            "        [1.0372, 0.8900, 1.2666]])\n"
          ],
          "name": "stdout"
        }
      ]
    },
    {
      "cell_type": "code",
      "metadata": {
        "id": "conb4XtXxgxj",
        "colab_type": "code",
        "colab": {
          "base_uri": "https://localhost:8080/",
          "height": 104
        },
        "outputId": "d5581c69-e212-40c4-e991-c047fbc1f18d"
      },
      "source": [
        "result = torch.empty(5,3)\n",
        "torch.add(x, y, out = result)\n",
        "\n",
        "print(result)"
      ],
      "execution_count": 13,
      "outputs": [
        {
          "output_type": "stream",
          "text": [
            "tensor([[1.1647, 1.5561, 1.1011],\n",
            "        [1.2429, 1.6265, 0.3457],\n",
            "        [1.4130, 0.9352, 0.7865],\n",
            "        [0.8533, 0.6929, 0.9228],\n",
            "        [1.0372, 0.8900, 1.2666]])\n"
          ],
          "name": "stdout"
        }
      ]
    },
    {
      "cell_type": "code",
      "metadata": {
        "id": "_hu7B2AlxmLj",
        "colab_type": "code",
        "colab": {
          "base_uri": "https://localhost:8080/",
          "height": 104
        },
        "outputId": "44352c4e-621e-463e-a0b3-8fae98cbbead"
      },
      "source": [
        "# 만약 inplace 바식으로 한다면?\n",
        "y.add_(x) # y.add(x) 가 아니라, y.add_(x) 처럼 작성해야 함\n",
        "print(y)"
      ],
      "execution_count": 15,
      "outputs": [
        {
          "output_type": "stream",
          "text": [
            "tensor([[2.0850, 2.3370, 1.8351],\n",
            "        [2.1293, 2.5638, 0.5201],\n",
            "        [2.1891, 1.8008, 1.3168],\n",
            "        [1.0716, 1.0792, 1.7161],\n",
            "        [1.7624, 1.4813, 1.8976]])\n"
          ],
          "name": "stdout"
        }
      ]
    },
    {
      "cell_type": "code",
      "metadata": {
        "id": "VlafOktjxrha",
        "colab_type": "code",
        "colab": {
          "base_uri": "https://localhost:8080/",
          "height": 35
        },
        "outputId": "8dac1c83-088b-4f99-a688-66a0f2fa27cf"
      },
      "source": [
        "print(x[:, 1])"
      ],
      "execution_count": 16,
      "outputs": [
        {
          "output_type": "stream",
          "text": [
            "tensor([0.7810, 0.9373, 0.8656, 0.3864, 0.5913])\n"
          ],
          "name": "stdout"
        }
      ]
    },
    {
      "cell_type": "code",
      "metadata": {
        "id": "NHoMEA_9x0GF",
        "colab_type": "code",
        "colab": {
          "base_uri": "https://localhost:8080/",
          "height": 139
        },
        "outputId": "e12f8b2d-c05d-4f65-c97d-e9608dc21509"
      },
      "source": [
        "# 크기 변경을 하고 자 한다면 torch.view 를 사용\n",
        "\n",
        "x = torch.rand(4, 4)\n",
        "y = x.view(16)\n",
        "z = x.view(-1, 8)\n",
        "\n",
        "print(x.size(), y.size(), z.size())\n",
        "\n",
        "print(x, y, z)"
      ],
      "execution_count": 18,
      "outputs": [
        {
          "output_type": "stream",
          "text": [
            "torch.Size([4, 4]) torch.Size([16]) torch.Size([2, 8])\n",
            "tensor([[0.3152, 0.7128, 0.5267, 0.5925],\n",
            "        [0.5433, 0.8030, 0.0803, 0.6958],\n",
            "        [0.4724, 0.6624, 0.7164, 0.1585],\n",
            "        [0.3620, 0.3553, 0.8669, 0.9914]]) tensor([0.3152, 0.7128, 0.5267, 0.5925, 0.5433, 0.8030, 0.0803, 0.6958, 0.4724,\n",
            "        0.6624, 0.7164, 0.1585, 0.3620, 0.3553, 0.8669, 0.9914]) tensor([[0.3152, 0.7128, 0.5267, 0.5925, 0.5433, 0.8030, 0.0803, 0.6958],\n",
            "        [0.4724, 0.6624, 0.7164, 0.1585, 0.3620, 0.3553, 0.8669, 0.9914]])\n"
          ],
          "name": "stdout"
        }
      ]
    },
    {
      "cell_type": "code",
      "metadata": {
        "id": "JrgXWFFIyAa9",
        "colab_type": "code",
        "colab": {
          "base_uri": "https://localhost:8080/",
          "height": 52
        },
        "outputId": "07fca90f-005f-4ca1-d94b-950649c326d7"
      },
      "source": [
        "# 만약 tensor 하나만 존재한다면 .item() 을 사용하여 숫자 값을 얻음\n",
        "\n",
        "x = torch.rand(1)\n",
        "print(x)\n",
        "print(x.item())"
      ],
      "execution_count": 19,
      "outputs": [
        {
          "output_type": "stream",
          "text": [
            "tensor([0.2268])\n",
            "0.2268214225769043\n"
          ],
          "name": "stdout"
        }
      ]
    },
    {
      "cell_type": "markdown",
      "metadata": {
        "id": "vk5pdGv3yQSZ",
        "colab_type": "text"
      },
      "source": [
        "## torch tensor 를 numpy 배열로 변환"
      ]
    },
    {
      "cell_type": "code",
      "metadata": {
        "id": "DIis8zZeyMDr",
        "colab_type": "code",
        "colab": {
          "base_uri": "https://localhost:8080/",
          "height": 35
        },
        "outputId": "b89af153-57d9-42d6-f8b2-4fd8d423f3b0"
      },
      "source": [
        "a = torch.ones(5)\n",
        "print(a)"
      ],
      "execution_count": 20,
      "outputs": [
        {
          "output_type": "stream",
          "text": [
            "tensor([1., 1., 1., 1., 1.])\n"
          ],
          "name": "stdout"
        }
      ]
    },
    {
      "cell_type": "code",
      "metadata": {
        "id": "CjmgE_vIyVPz",
        "colab_type": "code",
        "colab": {
          "base_uri": "https://localhost:8080/",
          "height": 35
        },
        "outputId": "5d2be51b-459d-4919-bb70-9eaf9206d5cd"
      },
      "source": [
        "b = a.numpy()\n",
        "print(b)"
      ],
      "execution_count": 21,
      "outputs": [
        {
          "output_type": "stream",
          "text": [
            "[1. 1. 1. 1. 1.]\n"
          ],
          "name": "stdout"
        }
      ]
    },
    {
      "cell_type": "code",
      "metadata": {
        "id": "_pLXmujxyWxj",
        "colab_type": "code",
        "colab": {
          "base_uri": "https://localhost:8080/",
          "height": 52
        },
        "outputId": "a6e392af-6d75-42b9-fcf5-ac136e17fdc4"
      },
      "source": [
        "a.add_(1) # a 의 모든 원소에 1을 더함\n",
        "print(a)\n",
        "print(b) # b 는 a.numpy() 로 생겨먹었는데, a 만 바뀌면 b는 저절로 변경됨"
      ],
      "execution_count": 24,
      "outputs": [
        {
          "output_type": "stream",
          "text": [
            "tensor([3., 3., 3., 3., 3.])\n",
            "[3. 3. 3. 3. 3.]\n"
          ],
          "name": "stdout"
        }
      ]
    },
    {
      "cell_type": "markdown",
      "metadata": {
        "id": "4wIbYFbDyo6b",
        "colab_type": "text"
      },
      "source": [
        "## Numpy 배열을 torch tensor 로 변형\n",
        "- np 배열을 변경하면 torch tensor 값도 자동 변경"
      ]
    },
    {
      "cell_type": "code",
      "metadata": {
        "id": "PftD0Ernyobb",
        "colab_type": "code",
        "colab": {
          "base_uri": "https://localhost:8080/",
          "height": 52
        },
        "outputId": "dd7a7bcc-a32a-4308-c445-1f399d5f5957"
      },
      "source": [
        "import numpy as np\n",
        "a = np.ones(5)\n",
        "b = torch.from_numpy(a)\n",
        "\n",
        "np.add(a, 1, out = a)\n",
        "print(a)\n",
        "print(b)"
      ],
      "execution_count": 26,
      "outputs": [
        {
          "output_type": "stream",
          "text": [
            "[2. 2. 2. 2. 2.]\n",
            "tensor([2., 2., 2., 2., 2.], dtype=torch.float64)\n"
          ],
          "name": "stdout"
        }
      ]
    },
    {
      "cell_type": "markdown",
      "metadata": {
        "id": "Gs8VzLQyzBgb",
        "colab_type": "text"
      },
      "source": [
        "## cuda tensor\n",
        "- .to 메소드 사용하여 tensor 옮길 수 있다"
      ]
    },
    {
      "cell_type": "code",
      "metadata": {
        "id": "OEjgoF9eyZdq",
        "colab_type": "code",
        "colab": {}
      },
      "source": [
        "# cuda 사용할 수 있다면, torch.device() 를 통해 gpu 를 사용할 지, cpu 를 사용할 지 구분 가능\n",
        "if torch.cuda.is_available():\n",
        "    device = torch.device('cuda') # cuda 장치 객체로 gpu 상에 직접 tensor 를 생성\n",
        "    y = torch.ones_like(x, device = device)\n",
        "    x = x.to(device) # 혹은 .to('cuda') 를 사용함\n",
        "    z = x + y\n",
        "    print(z)\n",
        "    print(z.to('cpu', torch.double)) # .to() 는 dtype 도 함께 변경"
      ],
      "execution_count": 27,
      "outputs": []
    },
    {
      "cell_type": "markdown",
      "metadata": {
        "id": "FGAtLilKzinu",
        "colab_type": "text"
      },
      "source": [
        "## Autograd 자동 미분\n",
        "- tensor 모든 연산에 자동 미분을 함\n",
        "\n",
        "### tensor\n",
        "- requires_grad  = True 하면, tensor 통해 이루어진 모든 연산을 추적한다\n",
        "- 완료 시 .backward() 호출하면 gradient 자동으로 계산 가능 : .grad 속성에 누적\n",
        "- 도중에 추적을 멈추고자 한다면 .detach() 호출하여 연산 기록에서 분리\n",
        "\n",
        "- with torch.no_grad(): 로 감싼다면 기록 추적 방지"
      ]
    },
    {
      "cell_type": "code",
      "metadata": {
        "id": "hgh3rfbqydiS",
        "colab_type": "code",
        "colab": {}
      },
      "source": [
        ""
      ],
      "execution_count": null,
      "outputs": []
    }
  ]
}
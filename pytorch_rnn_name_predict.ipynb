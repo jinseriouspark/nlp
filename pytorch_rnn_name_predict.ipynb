{
 "cells": [
  {
   "cell_type": "markdown",
   "metadata": {},
   "source": [
    "- 출처 : https://tutorials.pytorch.kr/intermediate/char_rnn_classification_tutorial.html"
   ]
  },
  {
   "cell_type": "code",
   "execution_count": 1,
   "metadata": {
    "collapsed": true
   },
   "outputs": [],
   "source": [
    "from __future__ import unicode_literals, print_function, division\n",
    "from io import open\n",
    "import glob\n",
    "import os"
   ]
  },
  {
   "cell_type": "code",
   "execution_count": 2,
   "metadata": {
    "collapsed": true
   },
   "outputs": [],
   "source": [
    "def findFiles(path) : return glob.glob(path)\n",
    "\n",
    "# f_path = '/content/drive/My Drive/korean_embedding/raw_data/data/data/names/*.txt'"
   ]
  },
  {
   "cell_type": "code",
   "execution_count": null,
   "metadata": {
    "collapsed": true
   },
   "outputs": [],
   "source": [
    "import unicodedata\n",
    "import string\n",
    "\n",
    "all_letters = string.ascii_letters + \".,;'\"\n",
    "n_letters = len(all_letters)\n",
    "\n",
    "# 유니코드 문자열을 ASCII 로 변환\n",
    "def unicodeToAscii(s):\n",
    "    return ''.join(\n",
    "        c for c in unicodedata.normalize('NFD', s)\n",
    "        if unicodedata.category(c) != 'Mn'\n",
    "        and c in all_letters\n",
    "  )\n",
    "\n",
    "print(unicodeToAscii('Ślusàrski'))\n",
    "\n",
    "# 각 언어의 이름 목록인 category_lines 사전생성\n",
    "category_lines = {}\n",
    "all_categories = []\n",
    "\n",
    "# 파일을 읽고 줄 단위로 분리\n",
    "def readLines(filename):\n",
    "    lines = open(filename, encoding = 'utf-8').read().strip().split('\\n')\n",
    "    return [unicodeToAscii(line) for line in lines]\n",
    "\n",
    "for filename in findFiles(f_path):\n",
    "    category = os.path.splitext(os.path.basename(filename))[0]\n",
    "    #print(category)\n",
    "    all_categories.append(category)\n",
    "    lines = readLines(filename)\n",
    "    category_lines[category] = lines\n",
    "\n",
    "n_categories = len(all_categories)\n"
   ]
  },
  {
   "cell_type": "markdown",
   "metadata": {},
   "source": [
    "## 이름을 tensor 로 변경\n",
    "- 활용하기 위해 텐서로 전환 : 1 x n_letters 인 one-hot vector 사용"
   ]
  },
  {
   "cell_type": "code",
   "execution_count": null,
   "metadata": {
    "collapsed": true
   },
   "outputs": [],
   "source": [
    "import torch\n",
    "\n",
    "# all_letters 로 문자의 주소 찾기 : 'a' = 0\n",
    "def letterToIndex(letter):\n",
    "    return all_letters.find(letter)\n",
    "  # all_letters.find('z') = 25 가 나온다\n",
    "\n",
    "\n",
    "# 검증을 위해 한개의 문자를  1 x n_letters 텐서로 변환\n",
    "def letterToTensor(letter):\n",
    "    tensor = torch.zeros(1, n_letters)\n",
    "    tensor[0][letterToIndex(letter)] = 1\n",
    "    # tensor의 첫행 letter 열에 1을 집어넣음\n",
    "    return tensor\n",
    "\n",
    "# 한 줄 (이름)을 <line_lenth x 1 x n_letters>, 또는 원핫 벡터 array 로 변경\n",
    "def lineToTensor(line): # 모든 단어에 반복하며 원핫인코딩\n",
    "    tensor = torch.zeros(len(line), 1, n_letters)\n",
    "    for li, letter in enumerate(line):\n",
    "        tensor[li][0][letterToIndex(letter)] = 1\n",
    "    return tensor\n",
    "\n",
    "print(letterToTensor('J'))\n",
    "print(lineToTensor('Jones').size())"
   ]
  },
  {
   "cell_type": "markdown",
   "metadata": {},
   "source": [
    "## 네트워크 생성\n",
    "- autograd 전에 torch에서 RNN 생성은 여러 시간 단계 걸쳐서 계층의 매개변수를 복제하는 작업을 포함한다\n",
    "- 계층은 은닉 상태, gradient 를 가지며, 이제 이것들은 그래프 자체에서 완전히 처리된다\n",
    "- 직접 RNN 을 사용해보고자 한다"
   ]
  },
  {
   "cell_type": "code",
   "execution_count": null,
   "metadata": {
    "collapsed": true
   },
   "outputs": [],
   "source": [
    "import torch.nn as nn\n",
    "class RNN(nn.Module):\n",
    "    def __init__(self, input_size, hidden_size, output_size):\n",
    "        super(RNN, self).__init__()\n",
    "\n",
    "        self.hidden_size = hidden_size\n",
    "        self.i2h = nn.Linear(input_size + hidden_size, hidden_size)\n",
    "        self.i2o = nn.Linear(input_size + hidden_size, output_size)\n",
    "        self.softmax = nn.LogSoftmax(dim = 1)\n",
    "\n",
    "    def forward(self, input, hidden):\n",
    "        combined = torch.cat((input, hidden), 1)\n",
    "        hidden = self.i2h(combined)\n",
    "        output = self.i2o(combined)\n",
    "        output = self.softmax(output)\n",
    "        return output, hidden\n",
    "\n",
    "    def initHidden(self):\n",
    "        return torch.zeros(1, self.hidden_size)\n",
    "\n",
    "n_hidden = 128\n",
    "rnn = RNN(n_letters, n_hidden, n_categories)"
   ]
  },
  {
   "cell_type": "code",
   "execution_count": null,
   "metadata": {
    "collapsed": true
   },
   "outputs": [],
   "source": [
    "# 한 단계를 실행하려면 입력과 이전의 은닉상태 (처음에는 0으로 초기화) 를 전달해야 한다\n",
    "# 각 언어의 확률(= output) 과 다음 은닉 상태(유지) 를 받음\n",
    "\n",
    "input = letterToTensor('A')\n",
    "hidden = torch.zeros(1, n_hidden)\n",
    "\n",
    "output, next_hidden = rnn(input, hidden)"
   ]
  },
  {
   "cell_type": "markdown",
   "metadata": {},
   "source": [
    "## 학습\n",
    "### 학습준비\n",
    "- 각 카테고리의 우도인, 네트워크 출력을 해석해야 함\n",
    "  - 각 카테고리 우도로, 확률이 높은 이름과 카테고리 번호를 반환\n",
    "- 가장 큰 값의 주소를 알기 위해 Tensor.topk 를 사용할 수 있음\n"
   ]
  },
  {
   "cell_type": "code",
   "execution_count": null,
   "metadata": {
    "collapsed": true
   },
   "outputs": [],
   "source": [
    "def categoryFromOutput(output):\n",
    "    top_n, top_i = output.topk(1) # 텐서의 가장 큰 값 및 주소\n",
    "    category_i = top_i[0].item() # 텐서에서 정수 값으로 변경\n",
    "    return all_categories[category_i],  category_i\n",
    "\n",
    "a, b = categoryFromOutput(output)\n",
    "\n",
    "print(a)\n",
    "\n",
    "print(b)"
   ]
  },
  {
   "cell_type": "code",
   "execution_count": null,
   "metadata": {
    "collapsed": true
   },
   "outputs": [],
   "source": [
    "import random\n",
    "\n",
    "def randomChoice(l):\n",
    "    return l[random.randint(0, len(l) - 1)] # 랜덤하게 행렬 내 값들을 가져온다\n",
    "\n",
    "def randomTrainingExample():\n",
    "    category = randomChoice(all_categories) \n",
    "    #print(category) # all_categories 에서 카테고리 1개 가져온다\n",
    "    line = randomChoice(category_lines[category]) \n",
    "    #print(line) # 이를 category_lines 내에서 1줄씩 그 카테고리에 포함된 단어를 불러온다\n",
    "    category_tensor = torch.tensor([all_categories.index(category)], dtype = torch.long)\n",
    "    #print(category_tensor) # 카테고리 id\n",
    "    line_tensor = lineToTensor(line)\n",
    "    #print(line_tensor) # line(= 단어) 도 원핫인코딩된 텐서로 변형\n",
    "    return category, line, category_tensor, line_tensor\n",
    "\n",
    "for i in range(10):\n",
    "    category, line, category_tensor, line_tensor = randomTrainingExample()\n",
    "    print('category =', category, '/ line = ', line)\n",
    "    print(line_tensor.shape)"
   ]
  },
  {
   "cell_type": "markdown",
   "metadata": {},
   "source": [
    "## 네트워크 학습 \n",
    "- 네트워크 학습하는데 필요한 예시를 보여주고 추정\n",
    "- RNN 마지막 계층이 nn.LogSoftmax 이므로 손실함수로 nn.NLLoss 사용"
   ]
  },
  {
   "cell_type": "code",
   "execution_count": null,
   "metadata": {
    "collapsed": true
   },
   "outputs": [],
   "source": [
    "criterion = nn.NLLLoss()"
   ]
  },
  {
   "cell_type": "markdown",
   "metadata": {},
   "source": [
    "### 학습루프\n",
    "1. 입력, 타겟 tensor 생성\n",
    "2. 0으로 초기된 hidden layer 생성\n",
    "3. 각 문자를 읽어들이기\n",
    "  - 다음 문자를 위한 hidden 상태 유지 (= next_hidden)\n",
    "4. 타겟과 최종 output 출력 비교\n",
    "5. 역전파\n",
    "6. 출력과 손실 반환"
   ]
  },
  {
   "cell_type": "code",
   "execution_count": null,
   "metadata": {
    "collapsed": true
   },
   "outputs": [],
   "source": [
    "learning_rate = 0.005 \n",
    "# 너무 높게 설정하면 발산할 수 이쏙, 너무 낮으면 학습안됨\n",
    "\n",
    "def train(category_tensor, line_tensor):\n",
    "    hidden = rnn.initHidden() # 0으로 된 hidden layer 생성\n",
    "    rnn.zero_grad() # 초기 grad 0으로 만들기\n",
    "    for i in range(line_tensor.size()[0]):\n",
    "        output, hidden = rnn(line_tensor[i], hidden)\n",
    "        # 한줄씩 ( [0, 0, 0, ...., 1, 0, ..., 0] 읽어들임\n",
    "        # i 1개씩 rnn 을 거치면서 생성된 hidden 값을 들고 있다가 그 다음줄을 붙여준다\n",
    "        # torch.cat()\n",
    "        #print(hidden.shapㅔㅛ색e)\n",
    "\n",
    "    loss = criterion(output, category_tensor)\n",
    "    loss.backward()\n",
    "\n",
    "    # 매개변수의 경사도에 학습률을 곱한 뒤 그 매개변수 값에 더한다\n",
    "    for p in rnn.parameters():\n",
    "        p.data.add_(p.grad.data, alpha = -learning_rate)\n",
    "\n",
    "    return output, loss.item()\n"
   ]
  },
  {
   "cell_type": "markdown",
   "metadata": {},
   "source": [
    "#### 예시 데이터를 사용하여 실행예정, train 함수가 output, loss.item() 을 반환"
   ]
  },
  {
   "cell_type": "code",
   "execution_count": null,
   "metadata": {
    "collapsed": true
   },
   "outputs": [],
   "source": [
    "import time\n",
    "import math\n",
    "\n",
    "n_iters = 1000000\n",
    "print_every = 5000\n",
    "plot_every = 1000\n",
    "\n",
    "# 도식화를 위한 손실 추적 \n",
    "current_loss = 0\n",
    "all_losses = []\n",
    "\n",
    "def timeSince(since):\n",
    "    now = time.time()\n",
    "    s = now - since\n",
    "    m = math.floor(s / 60)\n",
    "    s -= m * 60\n",
    "    return '%dm %ds' % (m, s)\n",
    "\n",
    "start = time.time()\n",
    "\n",
    "for iter in range(1, n_iters + 1):\n",
    "    category, line, category_tensor, line_tensor = randomTrainingExample()\n",
    "    # 데이터는 1개를 여기서 가져온다\n",
    "    \n",
    "    output, loss = train(category_tensor, line_tensor)\n",
    "    current_loss += loss \n",
    "\n",
    "    # iter 숫자, 손실, 이름, 추측 화면 출력\n",
    "    if iter % print_every == 0:\n",
    "        guess, guess_i = categoryFromOutput(output)\n",
    "        correct = '✓' if guess == category else '✗ (%s)' % category\n",
    "        print('%d %d%% (%s) %.4f %s / %s %s' % (iter, iter / n_iters * 100, timeSince(start), loss, line, guess, correct))\n",
    "\n",
    "    # 현재 평균 손실을 전체 손실 리스트에 추가\n",
    "    if iter % plot_every == 0:\n",
    "        all_losses.append(current_loss / plot_every)\n",
    "        current_loss = 0"
   ]
  }
 ],
 "metadata": {
  "kernelspec": {
   "display_name": "Python [conda env:anaconda]",
   "language": "python",
   "name": "conda-env-anaconda-py"
  },
  "language_info": {
   "codemirror_mode": {
    "name": "ipython",
    "version": 3
   },
   "file_extension": ".py",
   "mimetype": "text/x-python",
   "name": "python",
   "nbconvert_exporter": "python",
   "pygments_lexer": "ipython3",
   "version": "3.5.6"
  }
 },
 "nbformat": 4,
 "nbformat_minor": 1
}

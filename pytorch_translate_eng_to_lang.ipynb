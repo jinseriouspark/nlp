{
  "nbformat": 4,
  "nbformat_minor": 0,
  "metadata": {
    "colab": {
      "name": "영어를 각 나라의 단어로 번역하기.ipynb",
      "provenance": [],
      "collapsed_sections": []
    },
    "kernelspec": {
      "name": "python3",
      "display_name": "Python 3"
    }
  },
  "cells": [
    {
      "cell_type": "markdown",
      "metadata": {
        "id": "7FTlqgoWqtzC",
        "colab_type": "text"
      },
      "source": [
        "## 문자-단위 RNN 으로 이름 생성"
      ]
    },
    {
      "cell_type": "code",
      "metadata": {
        "id": "qShIwiCmpujB",
        "colab_type": "code",
        "colab": {}
      },
      "source": [
        "from __future__ import unicode_literals, print_function, division\n",
        "from io import open\n",
        "import glob\n",
        "import os\n",
        "import unicodedata\n",
        "import string"
      ],
      "execution_count": 2,
      "outputs": []
    },
    {
      "cell_type": "code",
      "metadata": {
        "id": "-22VImIfsTQs",
        "colab_type": "code",
        "colab": {}
      },
      "source": [
        "all_letters = string.ascii_letters + \".,;'-\"\n",
        "n_letters = len(all_letters) + 1 # EOS  기호를 추가하여 갯수를 센다"
      ],
      "execution_count": 3,
      "outputs": []
    },
    {
      "cell_type": "code",
      "metadata": {
        "id": "CJ1DDIXqs9b9",
        "colab_type": "code",
        "colab": {}
      },
      "source": [
        "def findFiles(path): return glob.glob(path)\n",
        "\n",
        "def unicodeToAscii(s):\n",
        "  return ''.join(c for c in unicodedata.normalize('NFD', s)\n",
        "  if unicodedata.category(c) != 'Mn'\n",
        "  and c in all_letters\n",
        "  )"
      ],
      "execution_count": null,
      "outputs": []
    }
  ]
}
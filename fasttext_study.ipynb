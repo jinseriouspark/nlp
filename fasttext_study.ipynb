{
 "cells": [
  {
   "cell_type": "markdown",
   "metadata": {},
   "source": [
    "출처 : https://ratsgo.github.io/from%20frequency%20to%20semantics/2017/07/06/fasttext/\n",
    "https://hiseon.me/data-analytics/fasttext-tutorial/"
   ]
  },
  {
   "cell_type": "code",
   "execution_count": 1,
   "metadata": {
    "collapsed": true
   },
   "outputs": [],
   "source": [
    "# fasttext 사용"
   ]
  },
  {
   "cell_type": "code",
   "execution_count": 2,
   "metadata": {
    "collapsed": true
   },
   "outputs": [],
   "source": [
    "# raw data : 라인 하나당 하나의 문서가 됨\n"
   ]
  },
  {
   "cell_type": "code",
   "execution_count": null,
   "metadata": {
    "collapsed": true
   },
   "outputs": [],
   "source": [
    "import fasttext\n",
    "\n",
    "model = fasttext.train_supervised('cooking.stackexchange.txt', wordNgrams=2, epoch=25, lr=0.5)\n",
    "# cooking.stackexchange.txt 라는 이름의 파일을 불러옴\n",
    "# ngram = 2로 셋팅\n",
    "# 25번 반복\n",
    "# 학습률 0.5\n",
    "\n",
    "# model = fasttext.load_model(\"model_cooking.bin\")\n",
    "\n",
    "def print_results(N, p, r):\n",
    "    print(\"N\\t\" + str(N))\n",
    "    print(\"P@{}\\t{:.3f}\".format(1, p))\n",
    "    print(\"R@{}\\t{:.3f}\".format(1, r))\n",
    "\n",
    "print_results(*model.test('cooking.stackexchange.txt')) \n",
    "\n",
    "print (model.predict(\"Which baking dish is best to bake a banana bread ?\"))\n",
    "# 3개의 카테고리 정보를 함께 출력\n",
    "# print (model.predict(\"Which baking dish is best to bake a banana bread ?\", k=3))\n",
    "\n",
    "model.save_model(\"model_cooking.bin\")"
   ]
  }
 ],
 "metadata": {
  "kernelspec": {
   "display_name": "Python [conda env:anaconda]",
   "language": "python",
   "name": "conda-env-anaconda-py"
  },
  "language_info": {
   "codemirror_mode": {
    "name": "ipython",
    "version": 3
   },
   "file_extension": ".py",
   "mimetype": "text/x-python",
   "name": "python",
   "nbconvert_exporter": "python",
   "pygments_lexer": "ipython3",
   "version": "3.5.6"
  }
 },
 "nbformat": 4,
 "nbformat_minor": 1
}

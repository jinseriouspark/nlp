{
 "cells": [
  {
   "cell_type": "markdown",
   "metadata": {},
   "source": [
    "출처 : https://ratsgo.github.io/from%20frequency%20to%20semantics/2017/07/06/fasttext/\n",
    "https://hiseon.me/data-analytics/fasttext-tutorial/"
   ]
  },
  {
   "cell_type": "code",
   "execution_count": null,
   "metadata": {
    "collapsed": true
   },
   "outputs": [],
   "source": [
    "# fasttext 사용"
   ]
  },
  {
   "cell_type": "code",
   "execution_count": null,
   "metadata": {
    "collapsed": true
   },
   "outputs": [],
   "source": [
    "# raw data : 라인 하나당 하나의 문서가 됨\n"
   ]
  },
  {
   "cell_type": "code",
   "execution_count": 2,
   "metadata": {
    "collapsed": false
   },
   "outputs": [
    {
     "name": "stdout",
     "output_type": "stream",
     "text": [
      "Collecting fasttext\n",
      "  Downloading fasttext-0.9.2.tar.gz (68 kB)\n",
      "\u001b[K     |████████████████████████████████| 68 kB 664 kB/s eta 0:00:01\n",
      "\u001b[?25hRequirement already satisfied: pybind11>=2.2 in /Users/jinseulpark/anaconda/lib/python3.5/site-packages (from fasttext) (2.6.0)\n",
      "Requirement already satisfied: setuptools>=0.7.0 in /Users/jinseulpark/anaconda/lib/python3.5/site-packages/setuptools-27.2.0-py3.5.egg (from fasttext) (27.2.0)\n",
      "Requirement already satisfied: numpy in /Users/jinseulpark/anaconda/lib/python3.5/site-packages (from fasttext) (1.17.3)\n",
      "Building wheels for collected packages: fasttext\n",
      "  Building wheel for fasttext (setup.py) ... \u001b[?25l-\b \b\\\b \b|\b \b/\b \b-\b \b\\\b \b|\b \b/\b \b-\b \b\\\b \b|\b \b/\b \b-\b \b\\\b \b|\b \b/\b \b-\b \b\\\b \b|\b \b/\b \b-\b \b\\\b \b|\b \b/\b \b-\b \b\\\b \b|\b \b/\b \b-\b \b\\\b \b|\b \bdone\n",
      "\u001b[?25h  Created wheel for fasttext: filename=fasttext-0.9.2-cp35-cp35m-macosx_10_6_x86_64.whl size=331494 sha256=1ef926a2dcb6655da7d61b0f5df5f35b10a00af96ebe1d4761dc9a253ce22a37\n",
      "  Stored in directory: /Users/jinseulpark/Library/Caches/pip/wheels/06/27/f4/1d715a6c4f03222b1f301b54f23465e204f1e3d098864af7d7\n",
      "Successfully built fasttext\n",
      "Installing collected packages: fasttext\n",
      "Successfully installed fasttext-0.9.2\n",
      "\u001b[33mWARNING: You are using pip version 20.0.2; however, version 20.2.4 is available.\n",
      "You should consider upgrading via the '/Users/jinseulpark/anaconda/bin/python -m pip install --upgrade pip' command.\u001b[0m\n"
     ]
    }
   ],
   "source": [
    "!pip install fasttext"
   ]
  },
  {
   "cell_type": "code",
   "execution_count": 7,
   "metadata": {
    "collapsed": false
   },
   "outputs": [
    {
     "name": "stdout",
     "output_type": "stream",
     "text": [
      "N\t15404\n",
      "P@1\t0.993\n",
      "R@1\t0.430\n",
      "(('__label__baking',), array([0.73679262]))\n"
     ]
    }
   ],
   "source": [
    "import fasttext\n",
    "\n",
    "model = fasttext.train_supervised('cooking.stackexchange/cooking.stackexchange.txt', wordNgrams=2, epoch=25, lr=0.5)\n",
    "# cooking.stackexchange.txt 라는 이름의 파일을 불러옴\n",
    "# ngram = 2로 셋팅\n",
    "# 25번 반복\n",
    "# 학습률 0.5\n",
    "\n",
    "# model = fasttext.load_model(\"model_cooking.bin\")\n",
    "\n",
    "def print_results(N, p, r):\n",
    "    print(\"N\\t\" + str(N))\n",
    "    print(\"P@{}\\t{:.3f}\".format(1, p))\n",
    "    print(\"R@{}\\t{:.3f}\".format(1, r))\n",
    "\n",
    "print_results(*model.test('cooking.stackexchange/cooking.stackexchange.txt')) \n",
    "\n",
    "print (model.predict(\"Which baking dish is best to bake a banana bread ?\"))\n",
    "# 3개의 카테고리 정보도 출력하고 싶을 떄는 k = 3 의 인자를 넣어줌\n",
    "# print (model.predict(\"Which baking dish is best to bake a banana bread ?\", k=3))\n",
    "\n",
    "model.save_model(\"model_cooking.bin\")"
   ]
  },
  {
   "cell_type": "code",
   "execution_count": null,
   "metadata": {
    "collapsed": true
   },
   "outputs": [],
   "source": []
  }
 ],
 "metadata": {
  "kernelspec": {
   "display_name": "Python [conda env:anaconda]",
   "language": "python",
   "name": "conda-env-anaconda-py"
  },
  "language_info": {
   "codemirror_mode": {
    "name": "ipython",
    "version": 3
   },
   "file_extension": ".py",
   "mimetype": "text/x-python",
   "name": "python",
   "nbconvert_exporter": "python",
   "pygments_lexer": "ipython3",
   "version": "3.5.6"
  }
 },
 "nbformat": 4,
 "nbformat_minor": 1
}
